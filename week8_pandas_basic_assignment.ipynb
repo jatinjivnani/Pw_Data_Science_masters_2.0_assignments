{
 "cells": [
  {
   "cell_type": "markdown",
   "id": "5e96c3e6-ef53-4290-8732-61ff5b08655b",
   "metadata": {},
   "source": [
    "## Q1. Create a Pandas Series that contains the following data: 4, 8, 15, 16, 23, and 42. Then, print the series."
   ]
  },
  {
   "cell_type": "code",
   "execution_count": 1,
   "id": "3b746391-5fab-4d1b-8040-4bfb596a5b92",
   "metadata": {},
   "outputs": [
    {
     "name": "stdout",
     "output_type": "stream",
     "text": [
      "0     4\n",
      "1     8\n",
      "2    15\n",
      "3    16\n",
      "4    23\n",
      "5    42\n",
      "dtype: int64\n",
      "<class 'pandas.core.series.Series'>\n"
     ]
    }
   ],
   "source": [
    "import pandas as pd\n",
    "a=[4,8,15,16,23,42]\n",
    "ser=pd.Series(a)\n",
    "print(ser)\n",
    "print(type(ser))"
   ]
  },
  {
   "cell_type": "markdown",
   "id": "58df8404-ace8-471f-9e06-d26b0dd7f1ac",
   "metadata": {},
   "source": [
    "## Q2. Create a variable of list type containing 10 elements in it, and apply pandas.Series function on the variable print it."
   ]
  },
  {
   "cell_type": "code",
   "execution_count": 2,
   "id": "0604adc1-de7f-4ae4-98f7-b73025e9144e",
   "metadata": {},
   "outputs": [
    {
     "name": "stdout",
     "output_type": "stream",
     "text": [
      "0     4\n",
      "1     8\n",
      "2    15\n",
      "3    16\n",
      "4    23\n",
      "5    42\n",
      "6    54\n",
      "7    32\n",
      "8    23\n",
      "9    12\n",
      "dtype: int64\n",
      "<class 'pandas.core.series.Series'>\n"
     ]
    }
   ],
   "source": [
    "import pandas as pd\n",
    "a=[4,8,15,16,23,42,54,32,23,12]\n",
    "ser=pd.Series(a)\n",
    "print(ser)\n",
    "print(type(ser))\n"
   ]
  },
  {
   "cell_type": "markdown",
   "id": "c765f379-6dbd-4379-85d2-5f625db47fc1",
   "metadata": {},
   "source": [
    "## Q3. Create a Pandas DataFrame that contains the following data:\n",
    "**Name    age    gender**\n",
    "\n",
    "**Alice   25     female**\n",
    "\n",
    "**Bob     30     male**\n",
    "\n",
    "**Claire  27     female**\n",
    "\n"
   ]
  },
  {
   "cell_type": "code",
   "execution_count": 3,
   "id": "cee0273f-7e21-43dd-b070-abb2385814b5",
   "metadata": {},
   "outputs": [
    {
     "name": "stdout",
     "output_type": "stream",
     "text": [
      "        0    1       2\n",
      "0    name  age   value\n",
      "1   Alice   25  female\n",
      "2     Bob   30    male\n",
      "3  Claire   27  female\n",
      "<class 'pandas.core.frame.DataFrame'>\n"
     ]
    }
   ],
   "source": [
    "import pandas as pd\n",
    "a=[['name','age','value'],['Alice',25,'female'],['Bob',30,'male'],['Claire',27,'female']]\n",
    "df=pd.DataFrame(a)\n",
    "print(df)\n",
    "print(type(df))"
   ]
  },
  {
   "cell_type": "markdown",
   "id": "27640423-e328-4b3a-8cff-3836326ff52f",
   "metadata": {},
   "source": [
    "## Q4. What is ‘DataFrame’ in pandas and how is it different from pandas.series? Explain with an example."
   ]
  },
  {
   "cell_type": "markdown",
   "id": "161286a0-6077-4ded-86aa-eb4f97430d5d",
   "metadata": {},
   "source": [
    "A DataFrame is a two-dimensional, size-mutable, and labeled data structure with columns of potentially different types. It can be thought of as a dict-like container for Series objects .\n",
    "\n",
    "A Series is a one-dimensional labeled array capable of holding data of any type.\n",
    "\n",
    "\n",
    "In other words, a DataFrame is a table with rows and columns, where each column can be of a different data type, while a Series is a single column of data \n"
   ]
  },
  {
   "cell_type": "code",
   "execution_count": 4,
   "id": "e78a8318-d94b-4f54-80a1-8bd8068fc996",
   "metadata": {},
   "outputs": [
    {
     "name": "stdout",
     "output_type": "stream",
     "text": [
      "     name  age gender\n",
      "0   Alice   25      f\n",
      "1     Bob   30      m\n",
      "2  Claire   27      f\n",
      "<class 'pandas.core.frame.DataFrame'>\n",
      "<class 'pandas.core.series.Series'>\n"
     ]
    }
   ],
   "source": [
    "import pandas as pd\n",
    "a={'name':['Alice','Bob','Claire'],\n",
    "   'age':[25,30,27],\n",
    "   'gender':['f','m','f']}\n",
    "df=pd.DataFrame(a)\n",
    "print(df) \n",
    "print(type(df)) ###data frame\n",
    "\n",
    "print(type(df['name']))##series"
   ]
  },
  {
   "cell_type": "markdown",
   "id": "dbc5308c-013f-48b7-8159-2242482fc4ab",
   "metadata": {},
   "source": [
    "## Q5. What are some common functions you can use to manipulate data in a Pandas DataFrame? Can you give an example of when you might use one of these functions?"
   ]
  },
  {
   "cell_type": "code",
   "execution_count": 5,
   "id": "6fa99575-1495-45e9-babf-a1e845ba8772",
   "metadata": {},
   "outputs": [
    {
     "name": "stdout",
     "output_type": "stream",
     "text": [
      "     name  age gender\n",
      "0   Alice   25      f\n",
      "1     Bob   30      m\n",
      "2  Claire   27      f\n",
      "Index(['name', 'age', 'gender'], dtype='object')\n",
      "   Unnamed: 0    name  age gender\n",
      "0           0   Alice   25      f\n",
      "1           1     Bob   30      m\n",
      "2           2  Claire   27      f\n"
     ]
    }
   ],
   "source": [
    "## here are some common function used to manipulate data in pandas data frame\n",
    "import pandas as pd\n",
    "import lxml\n",
    "\n",
    "a={'name':['Alice','Bob','Claire'],\n",
    "   'age':[25,30,27],\n",
    "   'gender':['f','m','f']}\n",
    "df=pd.DataFrame(a)## it creates pandas dataframe\n",
    "print(df)\n",
    "print(df.columns)## it shows all the columns in dataframe \n",
    "df.to_csv('test01')## it creates .csv file with the data\n",
    "df1=pd.read_csv('test01')## it extracts data from csv file \n",
    "print(df1)\n",
    "##df2=pd.read_html('https://raw.githubusercontent.com/datasciencedojo/datasets/master/titanic.csv')\n",
    "\n",
    "## it extracts tabular data from any website and convert it into list\n",
    "##print(df2)\n"
   ]
  },
  {
   "cell_type": "markdown",
   "id": "8dc4dd9a-05b9-4230-b90f-6401b84b324f",
   "metadata": {},
   "source": [
    "\n",
    "## Q6. Which of the following is mutable in nature Series, DataFrame, Panel?"
   ]
  },
  {
   "cell_type": "markdown",
   "id": "c65c4382-1e8a-4d9a-b01d-d7e2b57ac091",
   "metadata": {},
   "source": [
    "A Series is a one-dimensional labeled array capable of holding data of any type .\n",
    "\n",
    "A DataFrame is a two-dimensional, size-mutable, and labeled data structure with columns of potentially different types. It can be thought of as a dict-like container for Series objects .\n",
    "\n",
    "A Panel is a three-dimensional data structure with axes representing samples, features, and items .\n",
    "\n",
    "Therefore, DataFrame and Panel are mutable in nature because they can be modified after creation. On the other hand, Series is immutable in nature because once created, it cannot be modified ."
   ]
  },
  {
   "cell_type": "markdown",
   "id": "438c19c8-65f2-46d5-b082-26406abbaa4c",
   "metadata": {},
   "source": [
    "## Q7. Create a DataFrame using multiple Series. Explain with an example."
   ]
  },
  {
   "cell_type": "code",
   "execution_count": 6,
   "id": "9578c662-707a-4beb-8d30-b905c94ac665",
   "metadata": {},
   "outputs": [
    {
     "name": "stdout",
     "output_type": "stream",
     "text": [
      "   name  age gender  salary\n",
      "0  John   25      M  200000\n",
      "1  Jane   30      F  400000\n",
      "2   Sam   21      M  904030\n"
     ]
    }
   ],
   "source": [
    "import pandas as pd\n",
    "\n",
    "# create three Series\n",
    "name = pd.Series(['John', 'Jane', 'Sam'])\n",
    "age = pd.Series([25, 30, 21])\n",
    "gender = pd.Series(['M', 'F', 'M'])\n",
    "salary=pd.Series([200000,400000,904030])\n",
    "\n",
    "# create a DataFrame from the Series\n",
    "df = pd.DataFrame({'name': name, 'age': age, 'gender': gender,'salary':salary})\n",
    "\n",
    "print(df)"
   ]
  },
  {
   "cell_type": "code",
   "execution_count": null,
   "id": "3c090e92-2e83-42ae-98dd-33a8b10afc36",
   "metadata": {},
   "outputs": [],
   "source": []
  }
 ],
 "metadata": {
  "kernelspec": {
   "display_name": "Python 3 (ipykernel)",
   "language": "python",
   "name": "python3"
  },
  "language_info": {
   "codemirror_mode": {
    "name": "ipython",
    "version": 3
   },
   "file_extension": ".py",
   "mimetype": "text/x-python",
   "name": "python",
   "nbconvert_exporter": "python",
   "pygments_lexer": "ipython3",
   "version": "3.10.8"
  }
 },
 "nbformat": 4,
 "nbformat_minor": 5
}
