{
 "cells": [
  {
   "cell_type": "markdown",
   "id": "1b75f563-1326-4e6d-95dd-4c9efef0c7b7",
   "metadata": {},
   "source": [
    "*Q1. Explain why we have to use the Exception class while creating a Custom Exception.\n",
    "Note: Here Exception class refers to the base class for all the exceptions.\n",
    "*\n",
    "\n"
   ]
  },
  {
   "cell_type": "markdown",
   "id": "7e23eb64-ac9e-4bde-90bb-9c46d9671c56",
   "metadata": {},
   "source": [
    "Ans. In object-oriented programming, exceptions are used to handle runtime errors or unexpected situations that occur during the execution of a program. An exception is an instance of a class that represents an error or unexpected situation. The Exception class is the base class for all built-in exception classes in Python.\n",
    "\n",
    "When creating a custom exception, we need to define a new class that inherits from the Exception class. This is because the Exception class provides the necessary functionality for creating and handling exceptions, such as the ability to set a custom error message and stack trace.\n",
    "\n",
    "Inheriting from the Exception class also ensures that our custom exception class follows the same interface as the built-in exception classes in Python. This means that our custom exception can be used in the same way as other exceptions in Python, including being caught and handled by try-except blocks.\n",
    "\n",
    "Additionally, inheriting from the Exception class allows our custom exception to be compatible with any existing code that catches and handles exceptions using the Exception class. This means that our custom exception can be used in any context where an Exception object is expected, without causing any compatibility issues.\n",
    "\n",
    "In summary, using the Exception class as the base class for our custom exception ensures that our exception class has the necessary functionality and interface to be used and handled like other exceptions in Python, and is compatible with existing code that uses the Exception class."
   ]
  },
  {
   "cell_type": "markdown",
   "id": "8b2b682c-9924-4aba-861e-fb377f0bb407",
   "metadata": {},
   "source": [
    "*Q2. Write a python program to print Python Exception Hierarchy.* "
   ]
  },
  {
   "cell_type": "code",
   "execution_count": 2,
   "id": "a08594ae-0166-4b59-b890-12c36d15261d",
   "metadata": {},
   "outputs": [
    {
     "name": "stdout",
     "output_type": "stream",
     "text": [
      "Help on class Exception in module builtins:\n",
      "\n",
      "class Exception(BaseException)\n",
      " |  Common base class for all non-exit exceptions.\n",
      " |  \n",
      " |  Method resolution order:\n",
      " |      Exception\n",
      " |      BaseException\n",
      " |      object\n",
      " |  \n",
      " |  Built-in subclasses:\n",
      " |      ArithmeticError\n",
      " |      AssertionError\n",
      " |      AttributeError\n",
      " |      BufferError\n",
      " |      ... and 15 other subclasses\n",
      " |  \n",
      " |  Methods defined here:\n",
      " |  \n",
      " |  __init__(self, /, *args, **kwargs)\n",
      " |      Initialize self.  See help(type(self)) for accurate signature.\n",
      " |  \n",
      " |  ----------------------------------------------------------------------\n",
      " |  Static methods defined here:\n",
      " |  \n",
      " |  __new__(*args, **kwargs) from builtins.type\n",
      " |      Create and return a new object.  See help(type) for accurate signature.\n",
      " |  \n",
      " |  ----------------------------------------------------------------------\n",
      " |  Methods inherited from BaseException:\n",
      " |  \n",
      " |  __delattr__(self, name, /)\n",
      " |      Implement delattr(self, name).\n",
      " |  \n",
      " |  __getattribute__(self, name, /)\n",
      " |      Return getattr(self, name).\n",
      " |  \n",
      " |  __reduce__(...)\n",
      " |      Helper for pickle.\n",
      " |  \n",
      " |  __repr__(self, /)\n",
      " |      Return repr(self).\n",
      " |  \n",
      " |  __setattr__(self, name, value, /)\n",
      " |      Implement setattr(self, name, value).\n",
      " |  \n",
      " |  __setstate__(...)\n",
      " |  \n",
      " |  __str__(self, /)\n",
      " |      Return str(self).\n",
      " |  \n",
      " |  with_traceback(...)\n",
      " |      Exception.with_traceback(tb) --\n",
      " |      set self.__traceback__ to tb and return self.\n",
      " |  \n",
      " |  ----------------------------------------------------------------------\n",
      " |  Data descriptors inherited from BaseException:\n",
      " |  \n",
      " |  __cause__\n",
      " |      exception cause\n",
      " |  \n",
      " |  __context__\n",
      " |      exception context\n",
      " |  \n",
      " |  __dict__\n",
      " |  \n",
      " |  __suppress_context__\n",
      " |  \n",
      " |  __traceback__\n",
      " |  \n",
      " |  args\n",
      "\n"
     ]
    }
   ],
   "source": [
    "help(Exception)"
   ]
  },
  {
   "cell_type": "markdown",
   "id": "c5348fcf-d094-402b-b8d3-521aeceae4a2",
   "metadata": {},
   "source": [
    "*Q3. What errors are defined in the ArithmeticError class? Explain any two with an example.*"
   ]
  },
  {
   "cell_type": "markdown",
   "id": "2f8505d4-1dc6-4330-8b5c-906a27e33643",
   "metadata": {},
   "source": [
    "Ans. The ArithmeticError class is a built-in exception class in Python that serves as the base class for all arithmetic-related exceptions. Some of the errors that are defined in the ArithmeticError class include:\n",
    "\n",
    "ZeroDivisionError: Raised when attempting to divide a number by zero. OverflowError: Raised when the result of an arithmetic operation exceeds the maximum representable value."
   ]
  },
  {
   "cell_type": "code",
   "execution_count": 3,
   "id": "d672e2f8-fefb-42e2-83ed-69a28071966a",
   "metadata": {},
   "outputs": [
    {
     "name": "stdout",
     "output_type": "stream",
     "text": [
      "Error: division by zero\n"
     ]
    }
   ],
   "source": [
    "numerator = 10\n",
    "denominator = 0\n",
    "\n",
    "try:\n",
    "    result = numerator / denominator\n",
    "except ZeroDivisionError as err:\n",
    "    print(\"Error:\", err)"
   ]
  },
  {
   "cell_type": "code",
   "execution_count": 9,
   "id": "3cab7776-bbaf-40fd-ad57-251519027c61",
   "metadata": {},
   "outputs": [],
   "source": [
    "import sys\n",
    "\n",
    "x = sys.maxsize\n",
    "\n",
    "try:\n",
    "    y = x + 1\n",
    "except OverflowError as err:\n",
    "    print(\"Error:\", err)"
   ]
  },
  {
   "cell_type": "markdown",
   "id": "04567f37-ab4a-4dcf-84c4-1af3a1c3d217",
   "metadata": {},
   "source": [
    "*Q4. Why LookupError class is used? Explain with an example KeyError and IndexError.*"
   ]
  },
  {
   "cell_type": "markdown",
   "id": "b7226eca-ca07-4790-bb75-d3250fa0f5c3",
   "metadata": {},
   "source": [
    "Ans.The LookupError class is a built-in exception class in Python that serves as the base class for all lookup-related exceptions. It is a subclass of the Exception class and is used to indicate errors that occur when a key or index is not found in a container object.\n",
    "\n",
    "Two common exceptions that are derived from LookupError are KeyError and IndexError."
   ]
  },
  {
   "cell_type": "code",
   "execution_count": 16,
   "id": "e9565768-8167-4c4c-ae76-0c3dba5749c8",
   "metadata": {},
   "outputs": [
    {
     "name": "stdout",
     "output_type": "stream",
     "text": [
      "Error 'd'\n"
     ]
    }
   ],
   "source": [
    "dict={'a':1,'b':2}\n",
    "try:\n",
    "    d=dict['d']\n",
    "        \n",
    "except KeyError as err:\n",
    "    print(\"Error\",err)"
   ]
  },
  {
   "cell_type": "code",
   "execution_count": 17,
   "id": "764e4653-1695-4016-80a8-897460339381",
   "metadata": {},
   "outputs": [
    {
     "name": "stdout",
     "output_type": "stream",
     "text": [
      "Error list index out of range\n"
     ]
    }
   ],
   "source": [
    "a=[1,2,32,45,54]\n",
    "try:\n",
    "    print(a[10])\n",
    "except IndexError as e:\n",
    "    print('Error',e)"
   ]
  },
  {
   "cell_type": "markdown",
   "id": "25745e1e-c80b-4f5d-aad3-c6d7d2b65d3f",
   "metadata": {},
   "source": [
    "Q5. *Explain ImportError. What is ModuleNotFoundError?*"
   ]
  },
  {
   "cell_type": "markdown",
   "id": "6fa9909f-bb49-400f-b46a-a3f3e8b50026",
   "metadata": {},
   "source": [
    "Ans. ImportError is a built-in exception class in Python that is raised when an import statement fails to find the module being imported or encounters an error while trying to import it. It is a subclass of the Exception class.\n",
    "\n",
    "In Python 3.6 and later versions, a new exception called ModuleNotFoundError was introduced. It is a subclass of ImportError and is raised when a module cannot be found during an import statement"
   ]
  },
  {
   "cell_type": "markdown",
   "id": "968b6ac2-b746-4340-97d2-c780b220981c",
   "metadata": {},
   "source": [
    "Q6. List down some best practices for exception handling in python."
   ]
  },
  {
   "cell_type": "markdown",
   "id": "166b5618-aea3-452d-a6e5-bc2e9a7c2016",
   "metadata": {},
   "source": [
    "Ans. Here are some best practices for exception handling in Python:\n",
    "\n",
    "Catch only the exceptions you expect: Instead of catching all exceptions, catch only the ones you expect to occur. This way, you can handle them appropriately and avoid masking unexpected errors.\n",
    "\n",
    "Keep error messages informative: Error messages should be informative and descriptive, so that they can help you identify the root cause of the error. Avoid generic error messages like \"Error occurred\" and instead provide specific details about what went wrong.\n",
    "\n",
    "Use try-except-finally blocks: Use try-except-finally blocks to catch and handle exceptions. The finally block can be used to perform any cleanup operations, such as closing a file or releasing a resource.\n",
    "\n",
    "Handle exceptions as close to the source as possible: Handle exceptions as close to the source as possible, so that you can provide a more specific and meaningful response to the error. This also helps in debugging the code.\n",
    "\n",
    "Use logging to keep track of exceptions: Use the logging module to keep track of exceptions and log them to a file. This can help you identify patterns in errors and debug issues more easily.\n",
    "\n",
    "Avoid using bare except clauses: Avoid using bare except clauses as they catch all exceptions, including system errors and keyboard interrupts. Use specific exception classes instead.\n",
    "\n",
    "Raise exceptions when necessary: Raise exceptions when you encounter an error condition that you cannot handle. This makes it easier to track down the root cause of the error.\n",
    "\n",
    "Keep error handling code separate: Keep error handling code separate from the main code. This makes the main code more readable and easier to understand.\n",
    "\n",
    "Test error conditions: Test error conditions as part of your unit tests. This can help you catch errors early and ensure that your code handles exceptions correctly.\n",
    "\n",
    "By following these best practices, you can write more robust and maintainable Python code that handles exceptions effectively.\n",
    "\n",
    "\"\"\""
   ]
  },
  {
   "cell_type": "code",
   "execution_count": null,
   "id": "f99730f4-9a63-45ba-8162-aaa8cb8ea4f1",
   "metadata": {},
   "outputs": [],
   "source": []
  }
 ],
 "metadata": {
  "kernelspec": {
   "display_name": "Python 3 (ipykernel)",
   "language": "python",
   "name": "python3"
  },
  "language_info": {
   "codemirror_mode": {
    "name": "ipython",
    "version": 3
   },
   "file_extension": ".py",
   "mimetype": "text/x-python",
   "name": "python",
   "nbconvert_exporter": "python",
   "pygments_lexer": "ipython3",
   "version": "3.10.8"
  }
 },
 "nbformat": 4,
 "nbformat_minor": 5
}
