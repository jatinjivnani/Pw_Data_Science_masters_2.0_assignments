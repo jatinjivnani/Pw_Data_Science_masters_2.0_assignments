{
 "cells": [
  {
   "cell_type": "markdown",
   "id": "271006f5-e23e-4b32-92c8-628a56ae07f5",
   "metadata": {},
   "source": [
    "Q1. Explain Class and Object with respect to Object-Oriented Programming. Give a suitable example."
   ]
  },
  {
   "cell_type": "code",
   "execution_count": 1,
   "id": "6358b8b6-d4c5-4c59-b666-ce6bb584b927",
   "metadata": {},
   "outputs": [
    {
     "name": "stdout",
     "output_type": "stream",
     "text": [
      "the details are\n",
      "Honda\n",
      "civic\n",
      "2020\n",
      "red\n",
      "the details are\n",
      "Toyota\n",
      "camry\n",
      "2021\n",
      "blue\n"
     ]
    }
   ],
   "source": [
    "'''Class is a blueprint or a template that defines the properties and behavior of objects of a specific type. \n",
    "In object-oriented programming (OOP), classes define how objects are created.\n",
    "\n",
    "An object, on the other hand, is an instance of a class that has its own properties and behavior.\n",
    "An object is an instance of a class, and objects of the same class have similar attributes and methods.\n",
    "\n",
    "Example: Consider a class called \"Car\". A Car class has properties such as make, model, year, and color,\n",
    "and behaviors such as start, stop, and accelerate. Each car object created from the Car class will have its own unique \n",
    "set of properties, but they will all share the same behavior defined in the class.\n",
    "For example, you could create two car objects: a Honda Civic and a Toyota Camry, \n",
    "both of which are instances of the Car class. The Honda Civic object might have make=\"Honda\", model=\"Civic\", \n",
    "year=2020, and color=\"red\". The Toyota Camry object might have make=\"Toyota\", model=\"Camry\", year=2021, and color=\"blue\".'''\n",
    "class Car():\n",
    "    def __init__(self,make,model,year,color):\n",
    "        self.make=make\n",
    "        self.model=model\n",
    "        self.year=year\n",
    "        self.color=color\n",
    "    def show(self):\n",
    "        print('the details are')\n",
    "        print(self.make)\n",
    "        print(self.model)\n",
    "        print(self.year)\n",
    "        print(self.color)\n",
    "honda_civic=Car('Honda','civic','2020','red')\n",
    "toyota_camry=Car('Toyota','camry','2021','blue')\n",
    "honda_civic.show()\n",
    "toyota_camry.show()\n"
   ]
  },
  {
   "cell_type": "code",
   "execution_count": null,
   "id": "8b4bfa4f-e674-40a9-a343-c5de92a64b0d",
   "metadata": {},
   "outputs": [],
   "source": []
  },
  {
   "cell_type": "raw",
   "id": "84b864ea-f533-42d4-9597-3c7ce25d096b",
   "metadata": {},
   "source": [
    "Q2. Name the four pillars of OOPs."
   ]
  },
  {
   "cell_type": "markdown",
   "id": "0766b5d5-e3e2-4684-b99b-8a3538fed7bd",
   "metadata": {},
   "source": [
    "The four pillars of Object-Oriented Programming (OOP) are:\n",
    "\n",
    "Encapsulation: Encapsulation is the process of hiding the implementation details of a class from other objects. This allows for a clean separation of concerns, where objects only interact with each other through a well-defined interface, making it easier to maintain the code and reduce the risk of unintended side effects.\n",
    "\n",
    "Abstraction: Abstraction is the process of exposing only the necessary information about an object to other objects, while hiding the implementation details. This allows developers to work with objects in a more intuitive and user-friendly way, making the code easier to understand and maintain.\n",
    "\n",
    "Inheritance: Inheritance is a mechanism that allows a new class to be created from an existing class. The new class (known as the subclass or derived class) inherits the properties and behavior of the existing class (known as the superclass or base class), making it easier to reuse existing code and reduce the amount of duplicated code in a system.\n",
    "\n",
    "Polymorphism: Polymorphism is the ability of an object to take on many forms. This allows objects to be treated as objects of the same type, even if they are instances of different classes. This allows for greater flexibility in code, making it easier to write generic code that can work with objects of different types."
   ]
  },
  {
   "cell_type": "code",
   "execution_count": null,
   "id": "cc46b02e-9ed3-4c41-a6eb-d855db97460d",
   "metadata": {},
   "outputs": [],
   "source": []
  },
  {
   "cell_type": "markdown",
   "id": "d2f9fa3c-f629-4ea1-b7c2-946a66a86cc3",
   "metadata": {},
   "source": [
    "Q3.Explain why the init() function is used. Give a suitable example."
   ]
  },
  {
   "cell_type": "code",
   "execution_count": 2,
   "id": "269aa7fb-22fd-4973-9eff-2620e6cc6647",
   "metadata": {},
   "outputs": [
    {
     "name": "stdout",
     "output_type": "stream",
     "text": [
      "Name: John Doe\n",
      "Age: 30\n",
      "Address: 123 Main St.\n"
     ]
    }
   ],
   "source": [
    "''' The init method in Python is a special method that is automatically called when an object is created from a class.\n",
    "It is commonly referred to as the constructor and its purpose is to initialize the object's attributes.\n",
    "The init method is defined within the class and is called when an object of the class is created.\n",
    "\n",
    "Example: Consider a class called \"Person\". A Person class could have attributes such as name, age, and address.\n",
    "\n",
    "Here, the init method takes three arguments (name, age, and address) and sets them as the object's attributes.\n",
    "The display_person_details method can be used to display the person's details.\n",
    "To create an object of the Person class, you would call the class as a function \n",
    "and pass in the required arguments:'''\n",
    "\n",
    "class Person:\n",
    "    def __init__(self, name, age, address):\n",
    "        self.name = name\n",
    "        self.age = age\n",
    "        self.address = address\n",
    "        \n",
    "    def display_person_details(self):\n",
    "        print(f\"Name: {self.name}\")\n",
    "        print(f\"Age: {self.age}\")\n",
    "        print(f\"Address: {self.address}\")\n",
    "person1 = Person(\"John Doe\", 30, \"123 Main St.\")\n",
    "person1.display_person_details()"
   ]
  },
  {
   "cell_type": "code",
   "execution_count": null,
   "id": "17548f1e-a658-4184-ace8-46d0b29bac15",
   "metadata": {},
   "outputs": [],
   "source": []
  },
  {
   "cell_type": "markdown",
   "id": "75aa0214-0e50-4890-9148-35c2794196a7",
   "metadata": {},
   "source": [
    "Q4. Why self is used in OOPs?"
   ]
  },
  {
   "cell_type": "code",
   "execution_count": 3,
   "id": "6a42dab7-b543-4b7e-8348-8af41739f56c",
   "metadata": {},
   "outputs": [
    {
     "name": "stdout",
     "output_type": "stream",
     "text": [
      "the details are\n",
      "Honda\n",
      "civic\n",
      "2020\n",
      "red\n"
     ]
    }
   ],
   "source": [
    "'''In Object-Oriented Programming (OOP), self is a reference to the instance of the object on which a method is called.\n",
    "It is used to access the object's attributes and methods from within the object.\n",
    "\n",
    "In Python, self is a conventional name used to refer to the instance of the object,but you could use any other name if you like.\n",
    "However, it is a good practice to stick with the conventional name self for clarity and consistency.\n",
    "\n",
    "For example, consider the following class definition:'''\n",
    "class Car():\n",
    "    def __init__(self,make,model,year,color):\n",
    "        self.make=make\n",
    "        self.model=model\n",
    "        self.year=year\n",
    "        self.color=color\n",
    "    def show(self):\n",
    "        print('the details are')\n",
    "        print(self.make)\n",
    "        print(self.model)\n",
    "        print(self.year)\n",
    "        print(self.color)\n",
    "honda_civic=Car('Honda','civic','2020','red')\n",
    "honda_civic.show()\n",
    "\n",
    "# \n",
    "# Here, self is used within the init and show  methods to refer to the instance of the car object and\n",
    "# access its make,model,year and color attributes. When an object of the car class is created and the show  method\n",
    "# is called, self refers to the specific instance of the car object and its attributes are used to display the car details.\n",
    "# \n"
   ]
  },
  {
   "cell_type": "code",
   "execution_count": null,
   "id": "22c27c7e-fa0a-401e-b2fd-ec4404d3bdba",
   "metadata": {},
   "outputs": [],
   "source": []
  },
  {
   "cell_type": "markdown",
   "id": "fc50f71e-4fa2-4829-afab-8fde1fe7fa29",
   "metadata": {},
   "source": [
    "Q5.What is inheritance? Give an example for each type of inheritance."
   ]
  },
  {
   "cell_type": "markdown",
   "id": "3ceacd14-c091-4602-b572-fd179cf3cf72",
   "metadata": {},
   "source": [
    "Inheritance is a key concept in Object-Oriented Programming (OOP) that allows a new class to inherit properties and behaviors from an existing class, called the base class or parent class. This allows for code reuse and promotes the DRY (Don't Repeat Yourself) principle in programming.\n",
    "\n",
    "There are several types of inheritance, including:\n",
    "\n",
    "I. Single inheritance: A new class inherits from only one base class."
   ]
  },
  {
   "cell_type": "code",
   "execution_count": null,
   "id": "c2038d00-0ddd-4d79-819c-1c908f71a779",
   "metadata": {},
   "outputs": [],
   "source": [
    "class Animal:\n",
    "    def __init__(self, name, species):\n",
    "        self.name = name\n",
    "        self.species = species\n",
    "        \n",
    "    def __str__(self):\n",
    "        return f\"{self.name} is a {self.species}\"\n",
    "        \n",
    "class Dog(Animal):\n",
    "    def __init__(self, name, breed):\n",
    "        Animal.__init__(self, name, species=\"Dog\")\n",
    "        self.breed = breed\n",
    "        \n",
    "    def __str__(self):\n",
    "        return f\"{self.name} is a {self.breed} {self.species}\""
   ]
  },
  {
   "cell_type": "markdown",
   "id": "aa310e84-b825-4590-aed8-33d6bf6e1717",
   "metadata": {},
   "source": [
    "II. Multiple inheritance: A new class inherits from multiple base classes."
   ]
  },
  {
   "cell_type": "code",
   "execution_count": 4,
   "id": "1734edd7-d516-4c8b-8edf-c0d8bace7cf6",
   "metadata": {},
   "outputs": [
    {
     "name": "stdout",
     "output_type": "stream",
     "text": [
      "Running\n",
      "Flying\n"
     ]
    }
   ],
   "source": [
    "class Runnable:\n",
    "    def run(self):\n",
    "        return \"Running\"\n",
    "\n",
    "class Flyable:\n",
    "    def fly(self):\n",
    "        return \"Flying\"\n",
    "\n",
    "class Bird(Runnable, Flyable):\n",
    "    def __init__(self, name):\n",
    "        self.name = name\n",
    "\n",
    "    def __str__(self):\n",
    "        return f\"{self.name} the bird\"\n",
    "\n",
    "bird = Bird(\"Parrot\")\n",
    "print(bird.run()) # Output: Running\n",
    "print(bird.fly()) # Output: Flying"
   ]
  },
  {
   "cell_type": "markdown",
   "id": "6593ce4c-8e22-458d-9f19-1d99c3bcef01",
   "metadata": {},
   "source": [
    "In this example, the Bird class inherits from both the Runnable and Flyable classes, giving it both the run and fly methods. This demonstrates the use of multiple inheritance in Python, where a single class can inherit from multiple base classes.\n",
    "\n",
    "III. Multi-level inheritance: A class can inherit from a derived class, which is a class that inherits from another class."
   ]
  },
  {
   "cell_type": "code",
   "execution_count": 5,
   "id": "2ee418b4-3b02-49e4-9252-9ecba6602f1c",
   "metadata": {},
   "outputs": [],
   "source": [
    "class Animal:\n",
    "    def __init__(self, name, species):\n",
    "        self.name = name\n",
    "        self.species = species\n",
    "        \n",
    "    def __str__(self):\n",
    "        return f\"{self.name} is a {self.species}\"\n",
    "        \n",
    "class Dog(Animal):\n",
    "    def __init__(self, name, breed):\n",
    "        Animal.__init__(self, name, species=\"Dog\")\n",
    "        self.breed = breed\n",
    "        \n",
    "    def __str__(self):\n",
    "        return f\"{self.name} is a {self.breed} {self.species}\"\n",
    "        \n",
    "class GoldenRetriever(Dog):\n",
    "    def __init__(self, name):\n",
    "        Dog.__init__(self, name, breed=\"Golden Retriever\")"
   ]
  },
  {
   "cell_type": "markdown",
   "id": "eaa51dfc-19dd-4e11-b800-fa70eac5247d",
   "metadata": {},
   "source": [
    "IV. Hierarchical inheritance: Multiple classes inherit from a single base class."
   ]
  },
  {
   "cell_type": "code",
   "execution_count": 6,
   "id": "afe52334-2af9-4013-8738-3580ad2469cc",
   "metadata": {},
   "outputs": [],
   "source": [
    "class Animal:\n",
    "    def __init__(self, name, species):\n",
    "        self.name = name\n",
    "        self.species = species\n",
    "        \n",
    "    def __str__(self):\n",
    "        return f\"{self.name} is a {self.species}\"\n",
    "        \n",
    "class Dog(Animal):\n",
    "    def __init__(self, name, breed):\n",
    "        Animal.__init__(self, name, species=\"Dog\")\n",
    "        self.breed = breed\n",
    "        \n",
    "    def __str__(self):\n",
    "        return f\"{self.name} is a {self.breed} {self.species}\"\n",
    "        \n",
    "class Cat(Animal):\n",
    "    def __init__(self, name, breed):\n",
    "        Animal.__init__(self, name, species=\"Cat\")\n",
    "        self.breed = breed\n",
    "        \n",
    "    def __str__(self):\n",
    "        return f\"{self.name} is a {self.breed} {self.species}\""
   ]
  }
 ],
 "metadata": {
  "kernelspec": {
   "display_name": "Python 3 (ipykernel)",
   "language": "python",
   "name": "python3"
  },
  "language_info": {
   "codemirror_mode": {
    "name": "ipython",
    "version": 3
   },
   "file_extension": ".py",
   "mimetype": "text/x-python",
   "name": "python",
   "nbconvert_exporter": "python",
   "pygments_lexer": "ipython3",
   "version": "3.10.8"
  }
 },
 "nbformat": 4,
 "nbformat_minor": 5
}
