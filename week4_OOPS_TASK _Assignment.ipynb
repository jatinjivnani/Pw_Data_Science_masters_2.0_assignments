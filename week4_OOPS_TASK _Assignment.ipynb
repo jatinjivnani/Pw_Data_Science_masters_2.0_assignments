{
 "cells": [
  {
   "cell_type": "markdown",
   "id": "b7662d6e-71bf-4f5b-a925-3e47c47601be",
   "metadata": {},
   "source": [
    "Q1, Create a vehicle class with an init method having instance variables as name_of_vehicle, max_speed\n",
    "and average_of_vehicle."
   ]
  },
  {
   "cell_type": "code",
   "execution_count": 1,
   "id": "45567144-9aae-41b4-ad0d-9b37f024fd45",
   "metadata": {},
   "outputs": [
    {
     "name": "stdout",
     "output_type": "stream",
     "text": [
      "10\n",
      "390\n",
      "Bugati veyron\n"
     ]
    }
   ],
   "source": [
    "class Vehicle():\n",
    "    def __init__(self,name_of_vehicle,max_speed,average_of_vehicle):\n",
    "        self.name_of_vehicle=name_of_vehicle\n",
    "        self.max_speed=max_speed\n",
    "        self.average_of_vehicle=average_of_vehicle\n",
    "car1=Vehicle(\"Bugati veyron\",390,10)\n",
    "        \n",
    "print(car1.average_of_vehicle)\n",
    "print(car1.max_speed)\n",
    "print(car1.name_of_vehicle)\n",
    "        \n"
   ]
  },
  {
   "cell_type": "code",
   "execution_count": null,
   "id": "e356f695-b3f6-487c-b152-fb60178ba220",
   "metadata": {},
   "outputs": [],
   "source": []
  },
  {
   "cell_type": "markdown",
   "id": "12f28dba-459e-4a20-b867-8ee83b070373",
   "metadata": {},
   "source": [
    "Q2. Create a child class car from the vehicle class created in Que 1, which will inherit the vehicle class.\n",
    "Create a method named seating_capacity which takes capacity as an argument and returns the name of\n",
    "the vehicle and its seating capacity."
   ]
  },
  {
   "cell_type": "code",
   "execution_count": 6,
   "id": "021edaed-9718-4b9e-a4c7-1ea4382f0c23",
   "metadata": {},
   "outputs": [
    {
     "name": "stdout",
     "output_type": "stream",
     "text": [
      "The Thar has a seating capacity of 4\n"
     ]
    }
   ],
   "source": [
    "class Car(Vehicle):\n",
    "    def seating_cpactity(self,capacity):\n",
    "        return \"The {} has a seating capacity of {}\".format(self.name_of_vehicle,capacity)\n",
    "car2=Car(\"Thar\",200,10)\n",
    "print(car2.seating_cpactity(4)) "
   ]
  },
  {
   "cell_type": "code",
   "execution_count": null,
   "id": "9626f256-bc5a-4aad-9c3b-82337cf602fd",
   "metadata": {},
   "outputs": [],
   "source": []
  },
  {
   "cell_type": "markdown",
   "id": "6fb46087-9312-4611-9bbd-a6cb2e64311a",
   "metadata": {},
   "source": [
    "Q3. What is multiple inheritance? Write a python code to demonstrate multiple inheritance."
   ]
  },
  {
   "cell_type": "code",
   "execution_count": 3,
   "id": "26cf7a4a-9b1f-4bb2-bd50-bd35ef771c27",
   "metadata": {},
   "outputs": [
    {
     "name": "stdout",
     "output_type": "stream",
     "text": [
      "Engine started.\n",
      "Fuel tank filled with 50 liters.\n",
      "Car is driving.\n"
     ]
    }
   ],
   "source": [
    "'''\n",
    "Ans>    Multiple inheritance is a feature of object-oriented programming that allows a class to inherit \n",
    "        attributes and behaviors from multiple parent classes. This allows for greater flexibility and \n",
    "        code reuse, as a single class can inherit the characteristics of multiple existing classes.\n",
    "        \n",
    "        '''\n",
    "class Engine:\n",
    "    def start(self):\n",
    "        return \"Engine started.\"\n",
    "\n",
    "class Fuel:\n",
    "    def fill_fuel(self, fuel_amount):\n",
    "        return f\"Fuel tank filled with {fuel_amount} liters.\"\n",
    "\n",
    "class Car_Class(Engine, Fuel):\n",
    "    def drive(self):\n",
    "        return \"Car is driving.\"\n",
    "\n",
    "car3 = Car_Class()\n",
    "print(car3.start())  \n",
    "print(car3.fill_fuel(50))  \n",
    "print(car3.drive())  "
   ]
  },
  {
   "cell_type": "code",
   "execution_count": null,
   "id": "88d319d5-c102-48c3-a8b9-ba8c89186918",
   "metadata": {},
   "outputs": [],
   "source": []
  },
  {
   "cell_type": "markdown",
   "id": "4f53cd50-2bae-4b0f-ae58-ee02083e545b",
   "metadata": {},
   "source": [
    "Q4. What are getter and setter in python? Create a class and create a getter and a setter method in this\n",
    "class."
   ]
  },
  {
   "cell_type": "code",
   "execution_count": 4,
   "id": "06cd3f39-6cd5-41ce-9b61-a6b68f6a56c7",
   "metadata": {},
   "outputs": [
    {
     "name": "stdout",
     "output_type": "stream",
     "text": [
      "24\n",
      "jatin\n"
     ]
    }
   ],
   "source": [
    "'''\n",
    "Ans>    Getters and setters are methods in object-oriented programming that allow you to control access to the \n",
    "        attributes of an object. A getter method is used to retrieve the value of an attribute, while a setter \n",
    "        method is used to set the value of an attribute.\n",
    "        \n",
    "        getter and setter is also used To avoid direct access of a class field i.e.\n",
    "        private variables cannot be accessed directly or modified by external user.\n",
    "        '''\n",
    "class Person:\n",
    "    def __init__(self,name=\"\",age=0):\n",
    "        self._age = age\n",
    "        self._name=name\n",
    "        \n",
    "    # getter method\n",
    "    def get_age(self):\n",
    "        return self._age\n",
    "    def get_name(self):\n",
    "        return self._name\n",
    "      \n",
    "    # setter method\n",
    "    def set_age(self, x):\n",
    "        self._age = x\n",
    "    def set_name(self,name):\n",
    "        self._name=name\n",
    "  \n",
    "p1 = Person()\n",
    "  \n",
    "\n",
    "p1.set_name(\"jatin\")\n",
    "p1.set_age(24)\n",
    "  \n",
    "\n",
    "print(p1.get_age())\n",
    "  \n",
    "print(p1.get_name())"
   ]
  },
  {
   "cell_type": "code",
   "execution_count": null,
   "id": "ca159fc5-aae8-4937-8912-f8dfa4fabe4a",
   "metadata": {},
   "outputs": [],
   "source": []
  },
  {
   "cell_type": "markdown",
   "id": "4e66463e-ca34-45e1-af51-a4dbc523c680",
   "metadata": {},
   "source": [
    "Q5.What is method overriding in python? Write a python code to demonstrate method overriding."
   ]
  },
  {
   "cell_type": "code",
   "execution_count": 5,
   "id": "fe3564ef-d28f-42ca-a669-58475c17811b",
   "metadata": {},
   "outputs": [
    {
     "name": "stdout",
     "output_type": "stream",
     "text": [
      "This message is from Emp\n",
      "\n",
      "This Department is inherited from Emp\n"
     ]
    }
   ],
   "source": [
    "'''\n",
    "ans:- The method overriding in Python means creating two methods with the same name but differ in the programming logic.\n",
    "The concept of Method overriding allows us to change or override the Parent Class function in the Child Class.\n",
    "'''\n",
    "\n",
    "class Employee:\n",
    "      \n",
    "    def message(self):\n",
    "        print('This message is from Emp')\n",
    "  \n",
    "class Department(Employee):\n",
    "  \n",
    "    def message(self):\n",
    "        print('This Department is inherited from Emp')\n",
    "  \n",
    "emp = Employee()\n",
    "emp.message()\n",
    "  \n",
    "print()\n",
    "dept = Department()\n",
    "dept.message()"
   ]
  },
  {
   "cell_type": "code",
   "execution_count": null,
   "id": "ff8278cb-72c4-45c2-a3a5-9ccde818a72e",
   "metadata": {},
   "outputs": [],
   "source": []
  }
 ],
 "metadata": {
  "kernelspec": {
   "display_name": "Python 3 (ipykernel)",
   "language": "python",
   "name": "python3"
  },
  "language_info": {
   "codemirror_mode": {
    "name": "ipython",
    "version": 3
   },
   "file_extension": ".py",
   "mimetype": "text/x-python",
   "name": "python",
   "nbconvert_exporter": "python",
   "pygments_lexer": "ipython3",
   "version": "3.10.8"
  }
 },
 "nbformat": 4,
 "nbformat_minor": 5
}
