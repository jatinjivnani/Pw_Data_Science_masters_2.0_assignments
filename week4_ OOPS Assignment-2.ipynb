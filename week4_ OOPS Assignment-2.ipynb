{
 "cells": [
  {
   "cell_type": "markdown",
   "id": "6f3b696a-ed87-4f39-9f86-26a9dc513081",
   "metadata": {},
   "source": [
    "Q1. What is Abstraction in OOPs? Explain with an example.\n",
    "---------------\n",
    "\n",
    "Ans. Abstraction in Object-Oriented Programming (OOP) is a technique used to represent essential features of an object, ignoring all its background details. The main goal of abstraction is to simplify complex systems by hiding their implementation details and exposing only relevant information to the user.\n",
    "\n",
    "In simpler terms, abstraction means focusing on what an object does, rather than how it does it. It allows developers to work with objects without having to understand the underlying code or mechanics.\n",
    "\n",
    "Here's an example to illustrate the concept of abstraction:\n",
    "\n",
    "Suppose you have a car, and you want to turn on the engine. You don't need to know how the engine works, you just need to turn the key. In OOP, the key that starts the car can be considered as an abstracted version of the engine. The key is an abstraction of the engine because it hides the complexity of the engine and provides a simple way for you to start the car.\n",
    "\n",
    "In OOP, abstraction is achieved through the use of abstract classes and interfaces. An abstract class is a class that cannot be instantiated, but can be inherited by other classes. An interface is a collection of abstract methods (methods without a body) that can be implemented by other classes. Both abstract classes and interfaces are used to define a common set of methods that can be used by objects in a system."
   ]
  },
  {
   "cell_type": "code",
   "execution_count": null,
   "id": "52f476c6-bbe3-4586-b98c-70a40b560781",
   "metadata": {},
   "outputs": [],
   "source": []
  },
  {
   "cell_type": "markdown",
   "id": "81a7d741-5a1e-44e2-88b7-1605d8d16f26",
   "metadata": {},
   "source": [
    "Q2. Differentiate between Abstraction and Encapsulation. Explain with an example.\n",
    "-------\n",
    "\n",
    "Ans. Abstraction and Encapsulation are two fundamental concepts in Object-Oriented Programming (OOP). While they are related, they are distinct and serve different purposes.\n",
    "\n",
    "Abstraction refers to the process of hiding complex implementation details and presenting only the essential features of an object. It provides a simplified view of an object, allowing the user to work with it without having to understand its underlying code or mechanics.\n",
    "\n",
    "Encapsulation, on the other hand, refers to the process of wrapping data and functions into a single unit (i.e., an object). It protects the data from outside interference and misuse and helps to maintain the integrity of the data. Encapsulation allows for the implementation of abstraction by hiding the implementation details within an object.\n",
    "\n",
    "Here's an example to illustrate the difference between abstraction and encapsulation:\n",
    "\n",
    "Consider a class \"Car\" with the following attributes:\n",
    "\n",
    "- Engine Type\n",
    "- Fuel Type\n",
    "- Number of Wheels\n",
    "\n",
    "Abstraction would mean only presenting the relevant information to the user, such as the ability to start the engine and move the car forward. The user doesn't need to know the specifics of how the engine works or what fuel it uses.\n",
    "\n",
    "Encapsulation would mean grouping the data and functions (i.e., start the engine, move forward) into a single unit (i.e., the \"Car\" class) and keeping the implementation details hidden from the user. The user would only have access to the \"start engine\" and \"move forward\" functions and would not be able to directly access the data regarding engine type and fuel type.\n",
    "\n",
    "In this example, Abstraction provides a simplified view of the car object by hiding the underlying implementation details, while Encapsulation protects the data and functions within the \"Car\" class and keeps the data and functions separate from the rest of the code."
   ]
  },
  {
   "cell_type": "code",
   "execution_count": null,
   "id": "e16d197b-1136-4c47-baf5-20a19a2b85f9",
   "metadata": {},
   "outputs": [],
   "source": []
  },
  {
   "cell_type": "markdown",
   "id": "1cc656ab-2887-4144-8bc6-ce05ee5cf312",
   "metadata": {},
   "source": [
    "Q3. What is abc module in python? Why is it used?\n",
    "---------------------------\n",
    "\n",
    "\n",
    "Ans. The abc (Abstract Base Class) module in Python is a module that provides support for defining abstract base classes. An abstract base class is a class that cannot be instantiated and is meant to serve as a base class for other classes.\n",
    "\n",
    "The purpose of the abc module is to define a way to specify which methods and properties an implementation of a certain concept should have. The abstract base class acts as a blueprint for the implementation, and any class that inherits from it is required to implement all of the abstract methods and properties defined in the abstract base class.\n",
    "\n",
    "The abc module provides a way to define abstract base classes in Python, which is particularly useful in large projects where you want to ensure that certain classes have specific properties and methods. By using abstract base classes, you can enforce a particular interface for classes, making it easier to manage the dependencies between classes.\n",
    "\n",
    "Here's an example of how you might use the abc module to define an abstract base class:"
   ]
  },
  {
   "cell_type": "code",
   "execution_count": 1,
   "id": "402757f0-34b3-401e-abcf-3cd47e15c23c",
   "metadata": {},
   "outputs": [],
   "source": [
    "import abc\n",
    "\n",
    "class Shape(metaclass=abc.ABCMeta):\n",
    "    @abc.abstractmethod\n",
    "    def area(self):\n",
    "        pass\n",
    "    \n",
    "    @abc.abstractmethod\n",
    "    def perimeter(self):\n",
    "        pass\n",
    "\n",
    "class Square(Shape):\n",
    "    def __init__(self, side):\n",
    "        self.side = side\n",
    "        \n",
    "    def area(self):\n",
    "        return self.side * self.side\n",
    "    \n",
    "    def perimeter(self):\n",
    "        return self.side * 4"
   ]
  },
  {
   "cell_type": "markdown",
   "id": "650a8432-8335-4017-9e82-2c8fd92ebd77",
   "metadata": {},
   "source": [
    "In this example, the Shape class is an abstract base class that defines two abstract methods, area and perimeter. The Square class inherits from the Shape class and implements the area and perimeter methods. Since the Square class implements all of the abstract methods defined in the Shape class, it is a valid implementation of the Shape concept."
   ]
  },
  {
   "cell_type": "code",
   "execution_count": null,
   "id": "9b53daf0-87a5-445a-b7c8-d0800e72d9f1",
   "metadata": {},
   "outputs": [],
   "source": []
  },
  {
   "cell_type": "markdown",
   "id": "9f5b7201-fc57-470f-9bfc-09abceb69a91",
   "metadata": {},
   "source": [
    "Q4. How can we achieve data abstraction?\n",
    "----\n",
    "\n",
    "\n",
    "Ans. Data Abstraction is a technique of hiding the implementation details of a data structure and providing only the necessary information to the user. In other words, data abstraction refers to the ability to present only the essential information to the user, while hiding the underlying implementation details.\n",
    "\n",
    "In Python, data abstraction can be achieved in several ways:\n",
    "\n",
    "Using Encapsulation: Encapsulation is the process of wrapping data and functions into a single unit (i.e., an object). In Python, you can achieve data abstraction by using classes and objects. By keeping the implementation details within the class and only exposing the necessary methods and properties, you can achieve data abstraction.\n",
    "\n",
    "Using Abstract Base Classes: In Python, you can use the abc (Abstract Base Class) module to define abstract base classes. An abstract base class is a class that cannot be instantiated and is meant to serve as a blueprint for other classes. By defining an abstract base class, you can specify the methods and properties that must be implemented by any class that inherits from it.\n",
    "\n",
    "Using Modules: In Python, you can use modules to achieve data abstraction. A module is a way to group related functions and data into a single unit. By hiding the implementation details within a module and only exposing the necessary functions and data, you can achieve data abstraction.\n",
    "\n",
    "In conclusion, data abstraction is a useful technique for hiding implementation details and providing only the necessary information to the user. By using techniques such as encapsulation, abstract base classes, and modules, you can achieve data abstraction in Python."
   ]
  },
  {
   "cell_type": "code",
   "execution_count": null,
   "id": "4100976d-1735-4da3-9bec-7e3fa1a91cba",
   "metadata": {},
   "outputs": [],
   "source": []
  },
  {
   "cell_type": "markdown",
   "id": "ad93d846-b10d-42a8-a776-794d5eae1d96",
   "metadata": {},
   "source": [
    "Q5. Can we create an instance of an abstract class? Explain your answer.\n",
    "-------------\n",
    "\n",
    "Ans. No, you cannot create an instance of an abstract class in Python. An abstract class is a class that cannot be instantiated and is meant to serve as a blueprint for other classes. The purpose of an abstract class is to define an interface that must be implemented by any concrete (i.e., non-abstract) subclass.\n",
    "\n",
    "For example, consider the following abstract base class definition in Python:\n"
   ]
  },
  {
   "cell_type": "code",
   "execution_count": 2,
   "id": "be60a400-52b7-427e-b5a3-c604f5fc50c0",
   "metadata": {},
   "outputs": [],
   "source": [
    "import abc\n",
    "\n",
    "class Shape(metaclass=abc.ABCMeta):\n",
    "    @abc.abstractmethod\n",
    "    def area(self):\n",
    "        pass\n",
    "    \n",
    "    @abc.abstractmethod\n",
    "    def perimeter(self):\n",
    "        pass"
   ]
  },
  {
   "cell_type": "markdown",
   "id": "47d0715c-126f-45ef-ba38-859108d1e0f8",
   "metadata": {},
   "source": [
    "In this example, the Shape class is an abstract base class that defines two abstract methods, area and perimeter. You cannot create an instance of the Shape class, because it is an abstract class. To use the Shape class, you must create a concrete subclass that implements the area and perimeter methods:"
   ]
  },
  {
   "cell_type": "code",
   "execution_count": 3,
   "id": "df7209cf-5f50-4d73-994a-3ff761ae33e7",
   "metadata": {},
   "outputs": [],
   "source": [
    "class Square(Shape):\n",
    "    def __init__(self, side):\n",
    "        self.side = side\n",
    "        \n",
    "    def area(self):\n",
    "        return self.side * self.side\n",
    "    \n",
    "    def perimeter(self):\n",
    "        return self.side * 4"
   ]
  },
  {
   "cell_type": "markdown",
   "id": "11c28dcd-d7c5-4d22-bfba-0ca3355e3e3e",
   "metadata": {},
   "source": [
    "In this example, the Square class inherits from the Shape class and implements the area and perimeter methods. Since the Square class implements all of the abstract methods defined in the Shape class, you can create instances of the Square class:"
   ]
  },
  {
   "cell_type": "code",
   "execution_count": 4,
   "id": "8becc15a-3ec0-487f-8c8e-9d969b8a4f6a",
   "metadata": {},
   "outputs": [
    {
     "name": "stdout",
     "output_type": "stream",
     "text": [
      "100\n",
      "40\n"
     ]
    }
   ],
   "source": [
    "s = Square(10)\n",
    "print(s.area()) # 100\n",
    "print(s.perimeter()) # 40"
   ]
  },
  {
   "cell_type": "markdown",
   "id": "e656ca34-b9dd-4435-bfb1-918e0095ff45",
   "metadata": {},
   "source": [
    "In conclusion, you cannot create an instance of an abstract class in Python. An abstract class is meant to serve as a blueprint for other classes, and you must create a concrete subclass that implements the abstract methods and properties defined in the abstract base class."
   ]
  },
  {
   "cell_type": "code",
   "execution_count": null,
   "id": "f4fcabec-98b7-4aa2-9ff0-7e9aa7fe54d5",
   "metadata": {},
   "outputs": [],
   "source": []
  }
 ],
 "metadata": {
  "kernelspec": {
   "display_name": "Python 3 (ipykernel)",
   "language": "python",
   "name": "python3"
  },
  "language_info": {
   "codemirror_mode": {
    "name": "ipython",
    "version": 3
   },
   "file_extension": ".py",
   "mimetype": "text/x-python",
   "name": "python",
   "nbconvert_exporter": "python",
   "pygments_lexer": "ipython3",
   "version": "3.10.8"
  }
 },
 "nbformat": 4,
 "nbformat_minor": 5
}
