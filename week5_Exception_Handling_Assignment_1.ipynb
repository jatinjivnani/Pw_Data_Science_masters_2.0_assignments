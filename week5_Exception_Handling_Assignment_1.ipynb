{
 "cells": [
  {
   "cell_type": "markdown",
   "id": "8f160150-8d27-4d79-ad61-2b4e251b4616",
   "metadata": {},
   "source": [
    "\n",
    "Q1. What is an Exception in python? Write the difference between Exceptions and Syntax errors.\n",
    "-----------------"
   ]
  },
  {
   "cell_type": "markdown",
   "id": "2c2a0f2c-d07b-4d9c-a46d-57c41d20c41a",
   "metadata": {},
   "source": [
    "An exception in Python is an event that occurs during the execution of a program that disrupts the normal flow of the program’s instructions. Exceptions are raised when an internal event, such as an error, occurs that changes the normal flow of the program.\n",
    "\n",
    "The main difference between exceptions and syntax errors is that syntax errors occur during parsing, while exceptions occur during execution. A syntax error is when something goes wrong during parsing,\n"
   ]
  },
  {
   "cell_type": "markdown",
   "id": "44fc5524-6516-447d-9005-f6d85d312fa2",
   "metadata": {},
   "source": [
    "Q2. What happens when an exception is not handled? Explain with an example.\n",
    "-----------------"
   ]
  },
  {
   "cell_type": "markdown",
   "id": "d3f3ba42-7b11-40cb-a088-485e039b2f5a",
   "metadata": {},
   "source": [
    "When an exception is not handled in Python, it causes the program to terminate abruptly and produces a traceback. This means that the normal flow of the program is disrupted and the program stops executing.\n",
    "ex:-\n"
   ]
  },
  {
   "cell_type": "code",
   "execution_count": 1,
   "id": "da034f65-de52-4297-9e64-08a9f0ce403c",
   "metadata": {},
   "outputs": [
    {
     "ename": "ZeroDivisionError",
     "evalue": "division by zero",
     "output_type": "error",
     "traceback": [
      "\u001b[0;31m---------------------------------------------------------------------------\u001b[0m",
      "\u001b[0;31mZeroDivisionError\u001b[0m                         Traceback (most recent call last)",
      "Cell \u001b[0;32mIn[1], line 2\u001b[0m\n\u001b[1;32m      1\u001b[0m num \u001b[38;5;241m=\u001b[39m \u001b[38;5;241m20\u001b[39m\n\u001b[0;32m----> 2\u001b[0m num2 \u001b[38;5;241m=\u001b[39m \u001b[43mnum\u001b[49m\u001b[38;5;241;43m/\u001b[39;49m\u001b[38;5;241;43m0\u001b[39;49m\n\u001b[1;32m      3\u001b[0m \u001b[38;5;28mprint\u001b[39m(num2)\n\u001b[1;32m      4\u001b[0m \u001b[38;5;66;03m#without handling exception\u001b[39;00m\n",
      "\u001b[0;31mZeroDivisionError\u001b[0m: division by zero"
     ]
    }
   ],
   "source": [
    "num = 20\n",
    "num2 = num/0\n",
    "print(num2)\n",
    "#without handling exception"
   ]
  },
  {
   "cell_type": "code",
   "execution_count": null,
   "id": "bf2cb0d2-87ed-4a41-9089-36842589c420",
   "metadata": {},
   "outputs": [],
   "source": [
    "# with exception handling\n",
    "try:\n",
    "    num = 20\n",
    "    num1 = num/0\n",
    "    print(num1)\n",
    "except ZeroDivisionError as e:\n",
    "    print(f'Error type is : {e}')\n",
    "    "
   ]
  },
  {
   "cell_type": "code",
   "execution_count": null,
   "id": "4d6c0977-bb27-402a-a116-80409f429e8e",
   "metadata": {},
   "outputs": [],
   "source": []
  },
  {
   "cell_type": "markdown",
   "id": "0eac8bde-2466-4347-b5dd-7c61d4a3b328",
   "metadata": {},
   "source": [
    "Q3. Which Python statements are used to catch and handle exceptions? Explain with an example.\n",
    "-------------------"
   ]
  },
  {
   "cell_type": "code",
   "execution_count": null,
   "id": "a5657ec5-560c-4587-8829-e9f69cb9f5e7",
   "metadata": {},
   "outputs": [],
   "source": [
    "# try:\n",
    "#     statement(s)\n",
    "# except ErrorType as e:\n",
    "#     statement(s)\n",
    "# else:\n",
    "#     statement(s)\n",
    "# finally:\n",
    "#     statement(s)"
   ]
  },
  {
   "cell_type": "code",
   "execution_count": null,
   "id": "e5145de5-b014-4d81-8b92-050dd819e3cc",
   "metadata": {},
   "outputs": [],
   "source": [
    "try:\n",
    "    with open('test1.txt','r') as file:\n",
    "        file.write(\"This file open in read mode\")\n",
    "except Exception as e:\n",
    "    print(f\"Error type is : {e}\")\n",
    "else:\n",
    "    print(\"This is else block run with try block\")\n",
    "finally:\n",
    "    print('This is finally block')"
   ]
  },
  {
   "cell_type": "code",
   "execution_count": null,
   "id": "1f95daac-a660-43b1-8d35-4bcea509c5d8",
   "metadata": {},
   "outputs": [],
   "source": []
  },
  {
   "cell_type": "markdown",
   "id": "fadc3e97-4e81-481e-9f62-55e785d8ee0f",
   "metadata": {},
   "source": [
    "Q4. Explain with an example:\n",
    "--------------"
   ]
  },
  {
   "cell_type": "markdown",
   "id": "fce55f0d-5cff-433b-bfd7-d98992522782",
   "metadata": {},
   "source": [
    "a. try and else : eles execute after try execution, without try block, else block does not execute"
   ]
  },
  {
   "cell_type": "code",
   "execution_count": null,
   "id": "6d6afe45-695d-4cbe-83d6-63e3cb6410ae",
   "metadata": {},
   "outputs": [],
   "source": [
    "try:\n",
    "    print([2,5,6,8]+(4,5.6))\n",
    "except TypeError as e:\n",
    "    print(e)\n",
    "else:\n",
    "    print('This will execute with try block')"
   ]
  },
  {
   "cell_type": "markdown",
   "id": "2df5de6d-0095-463d-b63c-6333821f9249",
   "metadata": {},
   "source": [
    "b. finally : finally block execute in every time"
   ]
  },
  {
   "cell_type": "code",
   "execution_count": null,
   "id": "36f39fe7-c572-4fd1-8f2d-0d1436a036a8",
   "metadata": {},
   "outputs": [],
   "source": [
    "try:\n",
    "    print(90+'hello')\n",
    "except TypeError as e:\n",
    "    print(e)\n",
    "finally:\n",
    "    print(\"This is finally block\")"
   ]
  },
  {
   "cell_type": "markdown",
   "id": "5ba4ee67-d8ec-484a-b308-7870736f6ec1",
   "metadata": {},
   "source": [
    "c. raise : raise is a keyword that is used to raise an exception manually by using Exception or any error class."
   ]
  },
  {
   "cell_type": "code",
   "execution_count": null,
   "id": "01c40c6b-f86b-4baa-9e90-4400b6a8d102",
   "metadata": {},
   "outputs": [],
   "source": [
    "#raise example\n",
    "class getError(Exception):\n",
    "    pass\n",
    "try:\n",
    "    age = int(input(\"Enter your age : \"))\n",
    "    if age<0:\n",
    "        raise getError('Age must be grater than 0')\n",
    "except getError as e:\n",
    "    print(e)"
   ]
  },
  {
   "cell_type": "markdown",
   "id": "8a635de4-6241-43af-b15e-7855b0781abf",
   "metadata": {},
   "source": [
    "Q5. What are Custom Exceptions in python? Why do we need Custom Exceptions? Explain with an example.\n",
    "--------------------"
   ]
  },
  {
   "cell_type": "markdown",
   "id": "9c557a80-1356-4a84-8ce7-5c338f5cb2ae",
   "metadata": {},
   "source": [
    "Python provide some classes to handle error manually or by user define, It is called custom exception.\n",
    "In Python, we can define custom exceptions by creating a new class that is derived from the built-in Exception class.\n",
    "When we are writing a large number of code in Python, it is a good practice to place all the user-defined exceptions that our program raises in a separate file.\n",
    "Many standard modules define their exceptions separately as exceptions.py or errors.py.\n",
    "When as exeception occurs, the program terminates suddenly.\n",
    "Suddenly termination of program may corrupt the program\n",
    "Execption may cause data loss form the database or a file."
   ]
  },
  {
   "cell_type": "code",
   "execution_count": null,
   "id": "7d93296e-4375-44e3-a4bf-8d818d20208e",
   "metadata": {},
   "outputs": [],
   "source": [
    "# class CustomError(Exception):\n",
    "#     statement(.........)\n",
    "# try:\n",
    "#    statement(...........)\n",
    "# except CustomError:\n",
    "#     statement(.........)"
   ]
  },
  {
   "cell_type": "code",
   "execution_count": null,
   "id": "047115dc-bdd1-423a-b04a-c079c3c73b17",
   "metadata": {},
   "outputs": [],
   "source": [
    "## import logging\n",
    "logging.basicConfig(filename = 'test3.log', level = logging.DEBUG)\n",
    "\n",
    "\n",
    "class bankbalanceError(Exception):\n",
    "    \"\"\" my custom exception class \"\"\"\n",
    "try:\n",
    "    balance = 2300\n",
    "    withdraw = int(input(\"Enter your amount : \"))\n",
    "    if balance - withdraw <= 2000:\n",
    "        raise bankbalanceError('You are not eligible to withdraw this amount.')\n",
    "    else:\n",
    "        logging.info(balance - withdraw)\n",
    "except bankbalanceError as e:\n",
    "    print(e)"
   ]
  },
  {
   "cell_type": "code",
   "execution_count": null,
   "id": "12065c88-0044-4332-8d18-cf7140aeba45",
   "metadata": {},
   "outputs": [],
   "source": []
  },
  {
   "cell_type": "markdown",
   "id": "3bd93267-bdcc-4648-8e23-98d53fa0e253",
   "metadata": {},
   "source": [
    "Q6. Create a custom exception class. Use this class to handle an exception\n",
    "-----------------"
   ]
  },
  {
   "cell_type": "code",
   "execution_count": null,
   "id": "c0f1ca38-025b-4f89-95e0-71d85ae9f67c",
   "metadata": {},
   "outputs": [],
   "source": [
    "import logging\n",
    "logging.basicConfig(filename = 'test2.log', level = logging.DEBUG)\n",
    "\n",
    "class InvalidAge(Exception):\n",
    "    \"Raised when the input value is less than 18\"\n",
    "    pass\n",
    "\n",
    "\n",
    "age = 18\n",
    "try:\n",
    "    input_age = int(input(\"Enter a your age : \"))\n",
    "    if input_age < age:\n",
    "        raise InvalidAge\n",
    "    else:\n",
    "        logging.info(\"Eligible to Vote\")\n",
    "        \n",
    "        \n",
    "        \n",
    "except InvalidAge:\n",
    "    logging.warning(\"Exception occurred: Invalid Age\")"
   ]
  },
  {
   "cell_type": "code",
   "execution_count": null,
   "id": "5fe4c12e-b93f-4d01-9f97-422f0359a904",
   "metadata": {},
   "outputs": [],
   "source": []
  }
 ],
 "metadata": {
  "kernelspec": {
   "display_name": "Python 3 (ipykernel)",
   "language": "python",
   "name": "python3"
  },
  "language_info": {
   "codemirror_mode": {
    "name": "ipython",
    "version": 3
   },
   "file_extension": ".py",
   "mimetype": "text/x-python",
   "name": "python",
   "nbconvert_exporter": "python",
   "pygments_lexer": "ipython3",
   "version": "3.10.8"
  }
 },
 "nbformat": 4,
 "nbformat_minor": 5
}
