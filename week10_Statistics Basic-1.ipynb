{
 "cells": [
  {
   "cell_type": "markdown",
   "id": "10edf7bf-bd0e-44e3-b46c-92964cc86e8b",
   "metadata": {},
   "source": [
    "# Q1. What is Statistics?"
   ]
  },
  {
   "cell_type": "markdown",
   "id": "b3c18b5f-7082-451b-8973-4edfcbde224d",
   "metadata": {},
   "source": [
    "Statistics is the branch of mathematics and science that deals with collecting, analyzing, interpreting, presenting, and organizing data. It provides tools and techniques to make sense of information from various sources"
   ]
  },
  {
   "cell_type": "markdown",
   "id": "b1b3b7e7-6f91-4dce-ab65-dd242125287f",
   "metadata": {},
   "source": [
    "# Q2. Define the different types of statistics and give an example of when each type might be used."
   ]
  },
  {
   "cell_type": "markdown",
   "id": "54022961-4374-4755-974e-022c29f84e05",
   "metadata": {},
   "source": [
    "Types of statistics:\n",
    "\n",
    "### 1) **Descriptive Statistics**: \n",
    "it consists of organizing and summarizing data.\n",
    "Descriptive statistics summarize and describe data.\n",
    "\n",
    "Measures include:\n",
    "\n",
    "    Measures of central tendency: Mean, median, mode.\n",
    "    Measures of dispersion: Range, variance, standard deviation.\n",
    "    Percentiles, which divide data into equal parts.\n",
    "\n",
    "ex: Measure of central Tendency: mean, median, mode\n",
    "\n",
    "     Measure of Dispersion: variance, standard deviation\n",
    "\n",
    "     Different types of distribution data: histogram, pdf, pmf\n",
    "\n",
    "### 2) **Inferential Statistics** : \n",
    "it consists of making conclusion on the basis of available data.Inferential statistics make inferences or predictions about a population based on a sample.\n",
    "Techniques include hypothesis testing, confidence intervals, and regression analysis.\n",
    "\n",
    "ex: z test, T test"
   ]
  },
  {
   "cell_type": "markdown",
   "id": "db8706d5-5f54-4ae3-bf06-680c1887be6c",
   "metadata": {},
   "source": [
    "# Q3. What are the different types of data and how do they differ from each other? Provide an example of each type of data."
   ]
  },
  {
   "cell_type": "markdown",
   "id": "1f23c2b9-d8e6-4a14-a6d4-d1c6b0d80005",
   "metadata": {},
   "source": [
    "## Data:\n",
    "facts or pieces of information.\n",
    "\n",
    "types of data:\n",
    "\n",
    "1.Quantitative: numerical data\n",
    "\n",
    "2.Qualitative: categorical data/non numerical\n",
    "\n",
    "\n",
    "\n",
    "### 1. Quantitative data:\n",
    "\n",
    "    a) Discrete: whole number. example: number of bank accts, number of children in a family,\n",
    "\n",
    "    b)Continuous: any number. example: height, weight, temp, speed.\n",
    "\n",
    "### 2. Qualitative data:\n",
    "\n",
    "    a) Nominal: does not depend on rank. ex: male/female, blood group, pin code\n",
    "\n",
    "    b) Ordinal: depends on rank. ex: customer reviews\n",
    "\n"
   ]
  },
  {
   "cell_type": "markdown",
   "id": "79b8ec5a-8183-49e7-9bc5-699e9164c7f9",
   "metadata": {},
   "source": [
    "Q4. Categorise the following datasets with respect to quantitative and qualitative data types:\n",
    "\n",
    "(i) Grading in exam: A+, A, B+, B, C+, C, D, E\n",
    "\n",
    "(ii) Colour of mangoes: yellow, green, orange, red\n",
    "\n",
    "(iii) Height data of a class: [178.9, 179, 179.5, 176, 177.2, 178.3, 175.8,...]\n",
    "\n",
    "(iv) Number of mangoes exported by a farm: [500, 600, 478, 672, ...]\n"
   ]
  },
  {
   "cell_type": "markdown",
   "id": "5387d4a3-3dc0-4591-bc9c-0b3b0493d015",
   "metadata": {},
   "source": [
    "(i) Grading in exam: A+, A, B+, B, C+, C, D, E:**QUALITATIVE DATA**\n",
    "\n",
    "(ii) Colour of mangoes: yellow, green, orange, red::**QUALITTATIVE DATA**\n",
    "\n",
    "(iii) Height data of a class: [178.9, 179, 179.5, 176, 177.2, 178.3, 175.8,...]:**QUANTITATIVE DATA**\n",
    "\n",
    "(iv) Number of mangoes exported by a farm: [500, 600, 478, 672, ...]:**QUANTITATIVE DATA**"
   ]
  },
  {
   "cell_type": "markdown",
   "id": "3c74334e-7c46-4ec9-ba9c-a7ea7aa3b29d",
   "metadata": {},
   "source": [
    "# Q5. Explain the concept of levels of measurement and give an example of a variable for each level."
   ]
  },
  {
   "cell_type": "markdown",
   "id": "3e748eb0-281c-442e-9f25-b8fbe9e25053",
   "metadata": {},
   "source": [
    "Scale of Measurement:\n",
    "\n",
    "Normal Scale data: order does not matter.\n",
    "\n",
    "                              categorical/qualitative data\n",
    "                              example: male/female\n",
    "\n",
    "ordinal scale: order does matter.\n",
    "\n",
    "                      Ranking is important.\n",
    "                      difference cannot be measured.\n",
    "                      example: customer reviews\n",
    "\n",
    "Interval Scale: order matter.\n",
    "\n",
    "                        difference is measurable but ration is not.\n",
    "                        No \"0\" starting point.\n",
    "                        example: temperature\n",
    "\n",
    "Ratio scale: order does matter.\n",
    "\n",
    "                    difference and ratio are measurable.\n",
    "                    have '0' starting point."
   ]
  },
  {
   "cell_type": "markdown",
   "id": "628edc0d-2b29-4e55-a326-04816f23233b",
   "metadata": {},
   "source": [
    "# Q6. Why is it important to understand the level of measurement when analyzing data? Provide an example to illustrate your answer."
   ]
  },
  {
   "cell_type": "markdown",
   "id": "b2eb22b6-696e-4fcb-b576-b14fdfdd7750",
   "metadata": {},
   "source": [
    "Understanding the **level of measurement** is crucial in data analysis because it determines the appropriate statistical techniques and operations we can apply to the data. Let's explore this concept further with an example:\n",
    "\n",
    "1. **Levels of Measurement**:\n",
    "   - There are four primary levels of measurement:\n",
    "     - **Nominal**: Categorical data with no inherent order (e.g., colors, gender).\n",
    "     - **Ordinal**: Categorical data with a meaningful order (e.g., education levels, Likert scales).\n",
    "     - **Interval**: Numerical data with equal intervals but no true zero point (e.g., temperature in Celsius).\n",
    "     - **Ratio**: Numerical data with equal intervals and a true zero point (e.g., height, weight).\n",
    "\n",
    "2. **Example**:\n",
    "   - Imagine we're analyzing data on customer satisfaction ratings for a product. Each customer rates the product on a scale from 1 to 5 (1 = Very Dissatisfied, 5 = Very Satisfied).\n",
    "   - Let's consider the following scenarios:\n",
    "\n",
    "     a. **Nominal Level**:\n",
    "        - We categorize customers into groups based on their satisfaction level (e.g., \"Dissatisfied,\" \"Neutral,\" \"Satisfied\").\n",
    "        - We can calculate the **mode** (most frequent rating), but arithmetic operations are not meaningful.\n",
    "\n",
    "     b. **Ordinal Level**:\n",
    "        - We recognize the order of ratings (1 < 2 < 3 < 4 < 5).\n",
    "        - We can calculate the **median** (middle value) and identify trends.\n",
    "        - However, we cannot say that the difference between \"Very Dissatisfied\" (1) and \"Dissatisfied\" (2) is the same as between \"Satisfied\" (4) and \"Very Satisfied\" (5).\n",
    "\n",
    "     c. **Interval Level**:\n",
    "        - If we converted the ratings to a scale from 0 to 4 (where 0 = Very Dissatisfied), we have an interval level.\n",
    "        - Now we can calculate the **mean** (average) and perform arithmetic operations.\n",
    "        - However, there's no true zero point (i.e., a rating of 0 doesn't mean \"no satisfaction\").\n",
    "\n",
    "     d. **Ratio Level**:\n",
    "        - If we had a rating scale from 0 to 5 (where 0 = No Satisfaction), we achieve ratio level measurement.\n",
    "        - Now we can calculate the mean, median, and other statistics.\n",
    "        - A rating of 0 indicates complete absence of satisfaction.\n",
    "\n",
    "3. **Conclusion**:\n",
    "   - Understanding the level of measurement guides us in selecting appropriate statistical tests, visualizations, and interpretations.\n",
    "   - In our example, knowing the level of measurement helps us avoid misleading conclusions (e.g., treating ordinal data as interval data).\n"
   ]
  },
  {
   "cell_type": "markdown",
   "id": "e42a0619-6128-4b03-9d59-c6fa8c7bccc7",
   "metadata": {},
   "source": [
    "# Q7. How nominal data type is different from ordinal data type.\n"
   ]
  },
  {
   "cell_type": "markdown",
   "id": "8632ba78-f619-4f36-a10c-94cae74c3660",
   "metadata": {},
   "source": [
    "1. **Nominal Data**:\n",
    "   - **Definition**: Nominal data is a basic type of categorical data where the categories have **no inherent order or ranking**.\n",
    "   - **Examples**:\n",
    "     - Gender (e.g., male, female, non-binary).\n",
    "     - Eye color (e.g., blue, brown, green).\n",
    "     - Types of animals (e.g., cat, dog, bird).\n",
    "   - **Characteristics**:\n",
    "     - No meaningful order exists among the categories.\n",
    "     - We can label or name the values, but there is no hierarchy.\n",
    "     - Arithmetic operations (such as addition or subtraction) are not meaningful.\n",
    "   \n",
    "\n",
    "2. **Ordinal Data**:\n",
    "   - **Definition**: Ordinal data involves classifying data based on **rank** or **order**, but there are **no set intervals** between these categories.\n",
    "   - **Examples**:\n",
    "     - Social status (e.g., \"wealthy,\" \"middle income,\" \"poor\").\n",
    "     - Educational levels (e.g., \"high school,\" \"bachelor's degree,\" \"master's degree\").\n",
    "     - Satisfaction ratings (e.g., \"strongly agree,\" \"agree,\" \"neutral,\" \"disagree,\" \"strongly disagree\").\n",
    "   - **Characteristics**:\n",
    "     - Categories have a natural order.\n",
    "     - We can compare relative positions (e.g., higher or lower rank).\n",
    "     - However, the intervals between categories are not uniform.\n",
    "   "
   ]
  },
  {
   "cell_type": "markdown",
   "id": "4b7c3bac-40c3-4ea9-9f40-900c13253b18",
   "metadata": {},
   "source": [
    "# Q8. Which type of plot can be used to display data in terms of range?"
   ]
  },
  {
   "cell_type": "markdown",
   "id": "bd3933eb-abe8-436d-9f15-996aa1bc8e4b",
   "metadata": {},
   "source": [
    "## **Histogram**:\n",
    "A histogram is a graphical representation of the distribution of continuous data.\n",
    "It displays the frequency or count of data points falling within specified intervals (called bins).\n",
    "The x-axis represents the range of values, and the y-axis represents the frequency or density.\n",
    "Histograms are particularly useful for showing the spread and shape of data.\n",
    "They help identify patterns, outliers, and central tendencies.\n",
    "For example, if you have data on exam scores, a histogram can show how many students scored within specific\n",
    "score ranges (e.g., 60-70, 70-80, etc.)."
   ]
  },
  {
   "cell_type": "markdown",
   "id": "fa23ecb6-b4ac-4c7f-983c-4d87544c9bbd",
   "metadata": {},
   "source": [
    "# Q9. Describe the difference between descriptive and inferential statistics. Give an example of each type of statistics and explain how they are used."
   ]
  },
  {
   "cell_type": "markdown",
   "id": "65a3053f-bd37-44fc-9eb8-56ef3561f93e",
   "metadata": {},
   "source": [
    "### 1) **Descriptive Statistics**: \n",
    "it consists of organizing and summarizing data.\n",
    "Descriptive statistics summarize and describe data.\n",
    "\n",
    "Measures include:\n",
    "\n",
    "    Measures of central tendency: Mean, median, mode.\n",
    "    Measures of dispersion: Range, variance, standard deviation.\n",
    "    Percentiles, which divide data into equal parts.\n",
    "\n",
    "ex: Measure of central Tendency: mean, median, mode\n",
    "\n",
    "     Measure of Dispersion: variance, standard deviation\n",
    "\n",
    "     Different types of distribution data: histogram, pdf, pmf\n",
    "\n",
    "### 2) **Inferential Statistics** : \n",
    "it consists of making conclusion on the basis of available data.Inferential statistics make inferences or predictions about a population based on a sample.\n",
    "Techniques include hypothesis testing, confidence intervals, and regression analysis.\n",
    "\n",
    "ex: z test, T test"
   ]
  },
  {
   "cell_type": "markdown",
   "id": "ee4a2690-2c68-48f5-b8f8-8d0f2c2ffa08",
   "metadata": {},
   "source": [
    "# Q10. What are some common measures of central tendency and variability used in statistics? Explain how each measure can be used to describe a dataset."
   ]
  },
  {
   "cell_type": "markdown",
   "id": "3cc6fc9a-e89f-4d48-9210-2fd97ead0ef3",
   "metadata": {},
   "source": [
    "1. **Measures of Central Tendency**:\n",
    "   - These measures help find the **middle** or **average** of a dataset. They summarize the central location of the data points.\n",
    "\n",
    "   a. **Mean (Arithmetic Average)**:\n",
    "      - The mean is calculated by adding up all the values in the dataset and dividing by the total number of values.\n",
    "      - It represents the **balance point** of the data.\n",
    "      - Formula: \\(\\text{Mean} = \\frac{\\sum \\text{values}}{\\text{number of values}}\\)\n",
    "      - Use cases:\n",
    "        - When data is **approximately symmetric** (e.g., heights, test scores).\n",
    "        - Sensitive to extreme values (outliers).\n",
    "\n",
    "   b. **Median**:\n",
    "      - The median is the **middle value** when the data is arranged in order.\n",
    "      - It is not affected by extreme values.\n",
    "      - Use cases:\n",
    "        - When data has **skewed distributions** (e.g., income, house prices).\n",
    "        - Robust to outliers.\n",
    "\n",
    "   c. **Mode**:\n",
    "      - The mode is the **most frequent value** in the dataset.\n",
    "      - It can be used for both **categorical** and **numerical** data.\n",
    "      - Use cases:\n",
    "        - Identifying the most common response in a survey.\n",
    "        - Handling categorical data.\n",
    "\n",
    "2. **Measures of Variability**:\n",
    "   - These measures describe how spread out or dispersed the data points are.\n",
    "\n",
    "   a. **Range**:\n",
    "      - The range is the difference between the **maximum** and **minimum** values in the dataset.\n",
    "      - It provides a simple measure of variability.\n",
    "      - Use cases:\n",
    "        - Quick assessment of data spread.\n",
    "        - Sensitive to outliers.\n",
    "\n",
    "   b. **Variance**:\n",
    "      - Variance quantifies the **average squared deviation** from the mean.\n",
    "      - It considers all data points.\n",
    "      - Formula: \\(\\text{Variance} = \\frac{\\sum (\\text{value} - \\text{mean})^2}{\\text{number of values} - 1}\\)\n",
    "      - Use cases:\n",
    "        - Assessing data dispersion.\n",
    "        - Used in more advanced statistical methods.\n",
    "\n",
    "   c. **Standard Deviation**:\n",
    "      - The standard deviation is the **square root of the variance**.\n",
    "      - It measures the average deviation from the mean.\n",
    "      - Use cases:\n",
    "        - Describing the spread around the mean.\n",
    "        - Commonly used in inferential statistics.\n",
    "\n",
    "   d. **Interquartile Range (IQR)**:\n",
    "      - The IQR is the difference between the **third quartile (Q3)** and the **first quartile (Q1)**.\n",
    "      - It captures the middle 50% of the data.\n",
    "      - Use cases:\n",
    "        - Robust to outliers.\n",
    "        - Useful for skewed data.\n"
   ]
  },
  {
   "cell_type": "code",
   "execution_count": null,
   "id": "d2e4245f-77ed-495d-b4cf-7c44337f1342",
   "metadata": {},
   "outputs": [],
   "source": []
  }
 ],
 "metadata": {
  "kernelspec": {
   "display_name": "Python 3 (ipykernel)",
   "language": "python",
   "name": "python3"
  },
  "language_info": {
   "codemirror_mode": {
    "name": "ipython",
    "version": 3
   },
   "file_extension": ".py",
   "mimetype": "text/x-python",
   "name": "python",
   "nbconvert_exporter": "python",
   "pygments_lexer": "ipython3",
   "version": "3.10.8"
  }
 },
 "nbformat": 4,
 "nbformat_minor": 5
}
