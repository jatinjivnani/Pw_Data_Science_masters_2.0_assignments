{
 "cells": [
  {
   "cell_type": "markdown",
   "id": "28c10197-489c-4663-885f-bb67e9c525c7",
   "metadata": {},
   "source": [
    "# Q1. What are the three measures of central tendency?"
   ]
  },
  {
   "cell_type": "markdown",
   "id": "a0241833-acfa-4f98-8bc2-07fab1d92fa8",
   "metadata": {},
   "source": [
    " a. **Mean (Arithmetic Average)**:\n",
    "      - The mean is calculated by adding up all the values in the dataset and dividing by the total number of values.\n",
    "      - It represents the **balance point** of the data.\n",
    "      - Formula: \\(\\text{Mean} = \\frac{\\sum \\text{values}}{\\text{number of values}}\\)\n",
    "      - Use cases:\n",
    "        - When data is **approximately symmetric** (e.g., heights, test scores).\n",
    "        - Sensitive to extreme values (outliers).\n",
    "\n",
    "   b. **Median**:\n",
    "      - The median is the **middle value** when the data is arranged in order.\n",
    "      - It is not affected by extreme values.\n",
    "      - Use cases:\n",
    "        - When data has **skewed distributions** (e.g., income, house prices).\n",
    "        - Robust to outliers.\n",
    "\n",
    "   c. **Mode**:\n",
    "      - The mode is the **most frequent value** in the dataset.\n",
    "      - It can be used for both **categorical** and **numerical** data.\n",
    "      - Use cases:\n",
    "        - Identifying the most common response in a survey.\n",
    "        - Handling categorical data."
   ]
  },
  {
   "cell_type": "markdown",
   "id": "3bc6ed24-e96e-4ba0-bcb3-336aa0f2249e",
   "metadata": {},
   "source": [
    "# Q2. What is the difference between the mean, median, and mode? How are they used to measure the central tendency of a dataset?"
   ]
  },
  {
   "cell_type": "markdown",
   "id": "713b2e57-cb60-4e68-aadf-d100f1d62646",
   "metadata": {},
   "source": [
    "a. **Mean (Arithmetic Average)**:\n",
    "      - The mean is calculated by adding up all the values in the dataset and dividing by the total number of values.\n",
    "      - It represents the **balance point** of the data.\n",
    "      - Formula: \\(\\text{Mean} = \\frac{\\sum \\text{values}}{\\text{number of values}}\\)\n",
    "      - Use cases:\n",
    "        - When data is **approximately symmetric** (e.g., heights, test scores).\n",
    "        - Sensitive to extreme values (outliers).\n",
    "\n",
    "   b. **Median**:\n",
    "      - The median is the **middle value** when the data is arranged in order.\n",
    "      - It is not affected by extreme values.\n",
    "      - Use cases:\n",
    "        - When data has **skewed distributions** (e.g., income, house prices).\n",
    "        - Robust to outliers.\n",
    "        FORMULA:\n",
    "        MEDIAN=(N/2+(N+1)/2)/2 --- N IS EVEN\n",
    "        MEDIAN=N/2----------------N IS ODD\n",
    "\n",
    "   c. **Mode**:\n",
    "      - The mode is the **most frequent value** in the dataset.\n",
    "      - It can be used for both **categorical** and **numerical** data.\n",
    "      - Use cases:\n",
    "        - Identifying the most common response in a survey.\n",
    "        - Handling categorical data."
   ]
  },
  {
   "cell_type": "markdown",
   "id": "2dbfb6e0-13d4-4195-aac0-24a202c2a949",
   "metadata": {},
   "source": [
    "# Q3. Measure the three measures of central tendency for the given height data:\n",
    "[178,177,176,177,178.2,178,175,179,180,175,178.9,176.2,177,172.5,178,176.5]"
   ]
  },
  {
   "cell_type": "code",
   "execution_count": 1,
   "id": "dc4cb03f-04cb-4ebd-9a89-2bb9c6b97932",
   "metadata": {},
   "outputs": [
    {
     "name": "stdout",
     "output_type": "stream",
     "text": [
      "177.01875\n",
      "177.0\n",
      "ModeResult(mode=array([177.]), count=array([3]))\n"
     ]
    },
    {
     "name": "stderr",
     "output_type": "stream",
     "text": [
      "/tmp/ipykernel_3064/1592119503.py:7: FutureWarning: Unlike other reduction functions (e.g. `skew`, `kurtosis`), the default behavior of `mode` typically preserves the axis it acts along. In SciPy 1.11.0, this behavior will change: the default value of `keepdims` will become False, the `axis` over which the statistic is taken will be eliminated, and the value None will no longer be accepted. Set `keepdims` to True or False to avoid this warning.\n",
      "  print(st.mode(array))\n"
     ]
    }
   ],
   "source": [
    "import numpy as np\n",
    "from scipy import stats as st\n",
    "l=[178,177,176,177,178.2,178,175,179,180,175,178.9,176.2,177,172.5,178,176.5]\n",
    "array=np.array(l)\n",
    "print(array.mean())\n",
    "print(np.median(array))\n",
    "print(st.mode(array))"
   ]
  },
  {
   "cell_type": "markdown",
   "id": "e083de58-4cf1-4e15-a3de-afcec3fc2d98",
   "metadata": {},
   "source": [
    "# Q4. Find the standard deviation for the given data:\n",
    "[178,177,176,177,178.2,178,175,179,180,175,178.9,176.2,177,172.5,178,176.5]"
   ]
  },
  {
   "cell_type": "code",
   "execution_count": 2,
   "id": "c1cfa48b-603e-4a81-a55d-aff2d18f8b2b",
   "metadata": {},
   "outputs": [
    {
     "data": {
      "text/plain": [
       "1.7885814036548633"
      ]
     },
     "execution_count": 2,
     "metadata": {},
     "output_type": "execute_result"
    }
   ],
   "source": [
    "a=np.array([178,177,176,177,178.2,178,175,179,180,175,178.9,176.2,177,172.5,178,176.5])\n",
    "a.std()"
   ]
  },
  {
   "cell_type": "markdown",
   "id": "d58450bb-4657-42dd-aecc-345859ed4a9b",
   "metadata": {},
   "source": [
    "# Q5. How are measures of dispersion such as range, variance, and standard deviation used to describe the spread of a dataset? Provide an example."
   ]
  },
  {
   "cell_type": "markdown",
   "id": "313c2134-adbf-4590-b652-7114c0166262",
   "metadata": {},
   "source": [
    "1. **Range**:\n",
    "   - The **range** is the simplest measure of dispersion. It represents the difference between the maximum and minimum values in a dataset.\n",
    "   - Formula: Range = Maximum Value - Minimum Value\n",
    "   - Example: Suppose we have a dataset of daily temperatures (in degrees Celsius) for a week: {20, 22, 18, 25, 21, 23, 19}. The range would be:\n",
    "     \\[ \\text{Range} = 25 - 18 = 7 \\]\n",
    "\n",
    "2. **Variance**:\n",
    "   - **Variance** quantifies how much individual data points deviate from the mean (average) of the dataset.\n",
    "   - Formula: \\(\\sigma^2 = \\frac{\\sum_{i=1}^{n} (y_i - \\bar{y})^2}{n}\\)\n",
    "     where \\(y_i\\) represents each data point, \\(\\bar{y}\\) is the mean, and \\(n\\) is the sample size.\n",
    "   - Example: Consider the dataset {10, 12, 15, 11, 14}. The mean is \\(\\bar{y} = \\frac{10 + 12 + 15 + 11 + 14}{5} = 12.4\\). The variance is:\n",
    "     \\[ \\sigma^2 = \\frac{(10-12.4)^2 + (12-12.4)^2 + (15-12.4)^2 + (11-12.4)^2 + (14-12.4)^2}{5} = 4.16 \\]\n",
    "\n",
    "3. **Standard Deviation**:\n",
    "   - The **standard deviation** is the square root of the variance. It provides a more interpretable measure of dispersion.\n",
    "   - Formula: \\(\\sigma = \\sqrt{\\sigma^2}\\)\n",
    "   - Example: Using the same dataset as above, the standard deviation is:\n",
    "     \\[ \\sigma = \\sqrt{4.16} \\approx 2.04 \\]"
   ]
  },
  {
   "cell_type": "markdown",
   "id": "fb6afeee-cc4f-409b-8f0b-8445d23618e3",
   "metadata": {},
   "source": [
    "# Q6. What is a Venn diagram?"
   ]
  },
  {
   "cell_type": "markdown",
   "id": "e1814798-ff23-4d88-8aed-755643d69ff2",
   "metadata": {},
   "source": [
    "A **Venn diagram** is a widely used diagram style that shows the logical relationship between sets. It was popularized by **John Venn** in the 1880s. These diagrams are valuable tools for visualizing and understanding set theory, logic, and various other fields. Here are the key points about Venn diagrams:\n",
    "\n",
    "1. **Purpose**:\n",
    "   - A Venn diagram helps us **visually represent the differences and similarities** between two or more concepts or sets.\n",
    "   - It uses intersecting and non-intersecting circles (or other closed figures like squares) to denote the relationships between sets.\n",
    "\n",
    "2. **Components**:\n",
    "   - **Universal Set**: Before drawing a Venn diagram, we consider a larger set called the **universal set** (denoted by \\(E\\) or sometimes \\(U\\)). The universal set contains all elements from the sets being considered.\n",
    "   - **Circles (or Figures)**: Each set is represented by a circle (or closed figure) within the universal set. The circles may intersect or remain separate.\n",
    "   - **Subset Relationship**: A subset is a set contained entirely within another set. For example, if set \\(A\\) is entirely within set \\(B\\), we say \\(A\\) is a subset of \\(B\\) (symbolically represented as \\(A \\subseteq B\\)).\n",
    "\n",
    "3. **Example**:\n",
    "   - Let's consider an example. Suppose we have two sets:\n",
    "     - Set \\(A\\) contains even numbers from 1 to 25.\n",
    "     - Set \\(B\\) contains numbers in the 5x table from 1 to 25.\n",
    "   - The Venn diagram shows that 10 and 20 are both even numbers and multiples of 5 between 1 and 25 (the intersecting part).\n",
    "\n",
    "4. **Applications**:\n",
    "   - Venn diagrams are used in:\n",
    "     - Teaching elementary set theory.\n",
    "     - Illustrating set relationships in probability, logic, statistics, linguistics, and computer science."
   ]
  },
  {
   "cell_type": "markdown",
   "id": "ee76f99c-3d45-4448-a523-f0127c51a5b8",
   "metadata": {},
   "source": [
    "# Q7. For the two given sets A = (2,3,4,5,6,7) & B = (0,2,6,8,10). Find:\n",
    "## (i) (A ∩ B)\n",
    "## (ii) A ⋃ B"
   ]
  },
  {
   "cell_type": "markdown",
   "id": "e64c1404-8821-4e25-b433-80618fb7f5b0",
   "metadata": {},
   "source": [
    "1. **Intersection (A ∩ B)**:\n",
    "   - The intersection of sets \\(A\\) and \\(B\\) consists of elements that are common to both sets.\n",
    "   - We find the common elements between \\(A\\) and \\(B\\).\n",
    "   - \\(A = \\{2, 3, 4, 5, 6, 7\\}\\)\n",
    "   - \\(B = \\{0, 2, 6, 8, 10\\}\\)\n",
    "   - The common element is \\(2\\).\n",
    "   - Therefore, \\(A \\cap B = \\{2\\}\\).\n",
    "\n",
    "2. **Union (A ∪ B)**:\n",
    "   - The union of sets \\(A\\) and \\(B\\) contains all distinct elements from both sets.\n",
    "   - \\(A \\cup B = \\{0, 2, 3, 4, 5, 6, 7, 8, 10\\}\\).\n",
    "\n",
    "In summary:\n",
    "- \\(A \\cap B = \\{2\\}\\)\n",
    "- \\(A \\cup B = \\{0, 2, 3, 4, 5, 6, 7, 8, 10\\}\\)\n",
    "\n"
   ]
  },
  {
   "cell_type": "markdown",
   "id": "c8a4989d-e52c-497d-8483-316364aa1baf",
   "metadata": {},
   "source": [
    "# Q8. What do you understand about skewness in data?"
   ]
  },
  {
   "cell_type": "markdown",
   "id": "8a3332e3-6f89-4910-9dc5-abba85f4e930",
   "metadata": {},
   "source": [
    "**Skewness** is a measure of the **asymmetry** of a distribution. When we analyze data, we often encounter distributions that are not perfectly symmetrical. Here are the key points about skewness:\n",
    "\n",
    "1. **Definition**:\n",
    "   - Skewness quantifies how the data points are **spread out** in a dataset.\n",
    "   - It indicates whether the distribution is **lopsided** or not.\n",
    "   - A distribution can have three types of skewness:\n",
    "     - **Right (Positive) Skew**: The right tail is longer than the left tail. Data points are concentrated on the left side, with a few extreme values on the right.\n",
    "     - **Left (Negative) Skew**: The left tail is longer than the right tail. Data points are concentrated on the right side, with a few extreme values on the left.\n",
    "     - **Zero Skew**: The distribution is perfectly symmetrical (left and right sides mirror each other).\n",
    "\n",
    "2. **Interpretation**:\n",
    "   - **Zero Skew**: When skewness is zero, the distribution is **symmetrical**. Normal distributions have zero skew, but other symmetrical distributions (like uniform distributions) can also have zero skew.\n",
    "   - **Right Skew (Positive Skew)**: A right-skewed distribution has a long tail on the right side. It indicates that extreme values are more frequent on the right.\n",
    "   - **Left Skew (Negative Skew)**: A left-skewed distribution has a long tail on the left side. It indicates that extreme values are more frequent on the left.\n",
    "\n",
    "3. **Practical Use**:\n",
    "   - **Descriptive Statistics**: Skewness helps describe the shape of a dataset alongside other statistics.\n",
    "   - **Model Assumptions**: Checking skewness is essential for verifying assumptions in statistical models (e.g., normality assumptions).\n",
    "\n",
    "4. **Example**:\n",
    "   - Imagine a dataset of exam scores. If most students score around the average (with a few high scores), the distribution might be right-skewed.\n",
    "   - Conversely, if most scores are below the average (with a few low scores), the distribution might be left-skewed."
   ]
  },
  {
   "cell_type": "markdown",
   "id": "4c9b3374-8027-4d74-880a-3304a9d3a39a",
   "metadata": {},
   "source": [
    "# Q9. If a data is right skewed then what will be the position of median with respect to mean?"
   ]
  },
  {
   "cell_type": "markdown",
   "id": "56c52937-a04c-412b-8e7e-e1e083eb146c",
   "metadata": {},
   "source": [
    "In a **right-skewed** dataset, the position of the **median** with respect to the **mean** is as follows:\n",
    "\n",
    "1. **Mean**:\n",
    "   - The **mean** (average) tends to be **greater** than the median in a right-skewed distribution.\n",
    "   - This is because the right tail (containing larger values) pulls the mean toward higher values.\n",
    "\n",
    "2. **Median**:\n",
    "   - The **median** is typically **less** than the mean in a right-skewed dataset.\n",
    "   - The median is less affected by extreme values, so it remains closer to the center of the data.\n",
    "\n",
    "In summary:\n",
    "- **Mean > Median** in a right-skewed distribution.\n"
   ]
  },
  {
   "cell_type": "markdown",
   "id": "2a499b26-676d-4b9c-9ddc-d6326be90572",
   "metadata": {},
   "source": [
    "# Q10. Explain the difference between covariance and correlation. How are these measures used in statistical analysis?"
   ]
  },
  {
   "cell_type": "markdown",
   "id": "a091f534-402c-4253-9a4c-666c66f2dbef",
   "metadata": {},
   "source": [
    "1. **Covariance**:\n",
    "   - **Definition**: Covariance measures the **extent to which two random variables change together**. It indicates the direction of the linear relationship between variables.\n",
    "   - **Calculation**: For two variables \\(X\\) and \\(Y\\), the sample covariance is given by:\n",
    "     \\[ \\text{Cov}(X, Y) = \\frac{\\sum_{i=1}^{n} (x_i - \\bar{x})(y_i - \\bar{y})}{n-1} \\]\n",
    "     where \\(x_i\\) and \\(y_i\\) are data values, \\(\\bar{x}\\) and \\(\\bar{y}\\) are their respective means, and \\(n\\) is the sample size.\n",
    "   - **Range**: Covariance values can lie between \\(-\\infty\\) and \\(+\\infty\\).\n",
    "   - **Units**: The units of covariance are derived from the product of the units of the variables.\n",
    "\n",
    "2. **Correlation**:\n",
    "   - **Definition**: Correlation measures both the **strength and direction** of the linear relationship between two variables. It is a standardized form of covariance.\n",
    "   - **Calculation**: The sample correlation coefficient (\\(r\\)) is obtained by dividing the covariance of the variables by the product of their standard deviations:\n",
    "     \\[ r = \\frac{\\text{Cov}(X, Y)}{\\sigma_X \\cdot \\sigma_Y} \\]\n",
    "     where \\(\\sigma_X\\) and \\(\\sigma_Y\\) are the standard deviations of \\(X\\) and \\(Y\\).\n",
    "   - **Range**: Correlation values fall within the range of \\(-1\\) to \\(+1\\).\n",
    "   - **Units**: Correlation is **non-dimensional**; it doesn't have any specific units.\n",
    "\n",
    "3. **Differences**:\n",
    "   - **Interpretation**:\n",
    "     - Covariance indicates the **extent of dependency** between variables.\n",
    "     - Correlation signifies the **strength of association** between variables when other factors are held constant.\n",
    "   - **Standardization**:\n",
    "     - Correlation is a **normalized** version of covariance.\n",
    "     - Covariance values are not standardized.\n",
    "   - **Effect of Scale Change**:\n",
    "     - Covariance is affected by changes in the scale of variables (e.g., multiplying all values by a constant).\n",
    "     - Correlation remains unaffected by such scale changes.\n",
    "   - **Range**:\n",
    "     - Covariance values can be large or small, without a specific upper or lower limit.\n",
    "     - Correlation values are bounded between \\(-1\\) and \\(+1\\).\n",
    "\n",
    "4. **Applications**:\n",
    "   - **Covariance**:\n",
    "     - Used in portfolio theory to assess the relationship between asset returns.\n",
    "     - Helps understand how variables move together (e.g., stock prices and interest rates).\n",
    "   - **Correlation**:\n",
    "     - Widely used in finance, economics, and social sciences.\n",
    "     - Determines the strength and direction of relationships (e.g., correlation between GDP and unemployment rate)."
   ]
  },
  {
   "cell_type": "markdown",
   "id": "a05c8161-c174-4905-baae-9454eb4a61e4",
   "metadata": {},
   "source": [
    "# Q11. What is the formula for calculating the sample mean? Provide an example calculation for a dataset."
   ]
  },
  {
   "cell_type": "markdown",
   "id": "ab9f6adf-27c4-467d-8a55-57055201819c",
   "metadata": {},
   "source": [
    "The **sample mean** represents the average value of a given sample data. It allows us to estimate what the entire population might be doing without surveying every individual in that population. The formula for calculating the sample mean is straightforward:\n",
    "\n",
    "\\[ \\text{Sample Mean} = \\frac{\\text{Sum of Terms}}{\\text{Number of Terms}} = \\frac{\\sum_{i=1}^{n} x_i}{n} \\]\n",
    "\n",
    "Where:\n",
    "- \\(x_i\\) represents each data point in the sample.\n",
    "- \\(n\\) is the number of terms in the sample.\n",
    "\n",
    "Let's work through a couple of examples:\n",
    "\n",
    "1. **Example 1**:\n",
    "   - Given data: 60, 57, 109, 50\n",
    "   - Sum of terms: \\(60 + 57 + 109 + 50 = 276\\)\n",
    "   - Number of terms: 4\n",
    "   - Using the sample mean formula:\n",
    "     \\[ \\text{Mean} = \\frac{\\text{Sum of terms}}{\\text{Number of terms}} = \\frac{276}{4} = 69 \\]\n",
    "   - Answer: The sample mean of 60, 57, 109, and 50 is **69**.\n",
    "\n",
    "2. **Example 2**:\n",
    "   - Heights of five friends: 110 units, 115 units, 109 units, 112 units, and 114 units.\n",
    "   - Sum of heights: \\(110 + 115 + 109 + 112 + 114 = 560\\)\n",
    "   - Number of people: 5\n",
    "   - Using the sample mean formula:\n",
    "     \\[ \\text{Mean} = \\frac{\\text{Sum of heights}}{\\text{Number of people}} = \\frac{560}{5} = 112 \\]\n",
    "   - Answer: The sample mean height of the five friends is **112 units**.\n",
    "\n",
    "3. **Example 3**:\n",
    "   - Homework completion times for five children: 30 minutes, 60 minutes, 45 minutes, 40 minutes, and 90 minutes.\n",
    "   - Sum of time slots: \\(30 + 40 + 45 + 60 + 90 = 265\\)\n",
    "   - Number of children: 5\n",
    "   - Using the sample mean formula:\n",
    "     \\[ \\text{Mean} = \\frac{\\text{Sum of time slots}}{\\text{Number of children}} = \\frac{265}{5} = 53 \\]\n",
    "   - Answer: The sample mean time for the five children is **53 minutes**.\n"
   ]
  },
  {
   "cell_type": "markdown",
   "id": "d1ead05e-634d-4fc4-b41e-bdb0cd6acf23",
   "metadata": {},
   "source": [
    "# Q12. For a normal distribution data what is the relationship between its measure of central tendency?"
   ]
  },
  {
   "cell_type": "markdown",
   "id": "4818602e-f86c-4fa2-ad9a-88a0eb91ea51",
   "metadata": {},
   "source": [
    "In a **normal distribution**, all three common measures of central tendency—**mean**, **median**, and **mode**—have a specific relationship due to the symmetric nature of the distribution:\n",
    "\n",
    "1. **Mean**:\n",
    "   - The **mean** (average) of a normal distribution is equal to the **x-value of the peak** (the highest point) of the bell-shaped curve.\n",
    "   - Mathematically, for a normal distribution with mean \\(\\mu\\) and standard deviation \\(\\sigma\\), the mean is given by:\n",
    "     \\[ \\text{Mean} = \\mu \\]\n",
    "\n",
    "2. **Median**:\n",
    "   - The **median** of a normal distribution is also equal to the **x-value of the peak**.\n",
    "   - Since the normal distribution is symmetric, the median coincides with the mean.\n",
    "   - Therefore, for a normal distribution:\n",
    "     \\[ \\text{Median} = \\mu \\]\n",
    "\n",
    "3. **Mode**:\n",
    "   - The **mode** of a normal distribution is the **x-value of the global maximum** of the bell-shaped curve.\n",
    "   - Setting the derivative of the normal distribution function to zero, we find that the mode occurs at \\(x = \\mu\\).\n",
    "   - Thus, for a normal distribution:\n",
    "     \\[ \\text{Mode} = \\mu \\]\n"
   ]
  },
  {
   "cell_type": "markdown",
   "id": "f58f0a28-50c5-4878-9942-b7f682b9c119",
   "metadata": {},
   "source": [
    "# Q13. How is covariance different from correlation?"
   ]
  },
  {
   "cell_type": "markdown",
   "id": "81db4e50-89b5-4fe0-bba4-dc1797c69310",
   "metadata": {},
   "source": [
    "1. **Covariance**:\n",
    "   - **Definition**: Covariance measures the **extent to which two random variables change together**. It indicates the direction of the linear relationship between variables.\n",
    "   - **Calculation**: For two variables \\(X\\) and \\(Y\\), the sample covariance is given by:\n",
    "     \\[ \\text{Cov}(X, Y) = \\frac{\\sum_{i=1}^{n} (x_i - \\bar{x})(y_i - \\bar{y})}{n-1} \\]\n",
    "     where \\(x_i\\) and \\(y_i\\) are data values, \\(\\bar{x}\\) and \\(\\bar{y}\\) are their respective means, and \\(n\\) is the sample size.\n",
    "   - **Range**: Covariance values can lie between \\(-\\infty\\) and \\(+\\infty\\).\n",
    "   - **Units**: The units of covariance are derived from the product of the units of the variables.\n",
    "\n",
    "2. **Correlation**:\n",
    "   - **Definition**: Correlation measures both the **strength and direction** of the linear relationship between two variables. It is a standardized form of covariance.\n",
    "   - **Calculation**: The sample correlation coefficient (\\(r\\)) is obtained by dividing the covariance of the variables by the product of their standard deviations:\n",
    "     \\[ r = \\frac{\\text{Cov}(X, Y)}{\\sigma_X \\cdot \\sigma_Y} \\]\n",
    "     where \\(\\sigma_X\\) and \\(\\sigma_Y\\) are the standard deviations of \\(X\\) and \\(Y\\).\n",
    "   - **Range**: Correlation values fall within the range of \\(-1\\) to \\(+1\\).\n",
    "   - **Units**: Correlation is **non-dimensional**; it doesn't have any specific units.\n",
    "\n",
    "3. **Differences**:\n",
    "   - **Interpretation**:\n",
    "     - Covariance indicates the **extent of dependency** between variables.\n",
    "     - Correlation signifies the **strength of association** between variables when other factors are held constant.\n",
    "   - **Standardization**:\n",
    "     - Correlation is a **normalized** version of covariance.\n",
    "     - Covariance values are not standardized.\n",
    "   - **Effect of Scale Change**:\n",
    "     - Covariance is affected by changes in the scale of variables (e.g., multiplying all values by a constant).\n",
    "     - Correlation remains unaffected by such scale changes.\n",
    "   - **Range**:\n",
    "     - Covariance values can be large or small, without a specific upper or lower limit.\n",
    "     - Correlation values are bounded between \\(-1\\) and \\(+1\\).\n",
    "\n",
    "I"
   ]
  },
  {
   "cell_type": "markdown",
   "id": "b36c4134-92ad-4c2c-96ed-90b1abef81b7",
   "metadata": {},
   "source": [
    "# Q14. How do outliers affect measures of central tendency and dispersion? Provide an example."
   ]
  },
  {
   "cell_type": "markdown",
   "id": "3573d0e1-49f9-4587-9901-492e31fa71b0",
   "metadata": {},
   "source": [
    "1. **Measures of Central Tendency**:\n",
    "   - **Mean (Average)**:\n",
    "     - Outliers can **pull the mean** towards their extreme values.\n",
    "     - If there are outliers with large values, the mean can be **inflated**.\n",
    "     - Conversely, outliers with small values can **lower** the mean.\n",
    "     - Example: Consider a dataset of exam scores: {80, 85, 90, 95, 200}. The outlier (200) significantly affects the mean.\n",
    "       - Without the outlier: Mean = (80 + 85 + 90 + 95) / 4 = 87.5\n",
    "       - With the outlier: Mean = (80 + 85 + 90 + 95 + 200) / 5 = 110\n",
    "\n",
    "   - **Median**:\n",
    "     - The median is **less affected by outliers**.\n",
    "     - It represents the middle value when data is sorted.\n",
    "     - Example: In the same dataset, the median remains unaffected by the outlier: Median = 90.\n",
    "\n",
    "   - **Mode**:\n",
    "     - The mode (most frequent value) can also be influenced by outliers.\n",
    "     - If an outlier occurs frequently, it can become the mode.\n",
    "     - Example: If the dataset includes more occurrences of the outlier (200), it becomes the mode.\n",
    "\n",
    "2. **Measures of Dispersion**:\n",
    "   - **Range**:\n",
    "     - Outliers can significantly **widen the range**.\n",
    "     - The range is the difference between the maximum and minimum values.\n",
    "     - Example: In the exam scores dataset, the range without the outlier is 95 - 80 = 15, but with the outlier, it becomes 200 - 80 = 120.\n",
    "\n",
    "   - **Standard Deviation and Variance**:\n",
    "     - Outliers can increase the **standard deviation** and **variance**.\n",
    "     - These measures quantify the spread of data around the mean.\n",
    "     - Example: The standard deviation increases when the outlier is included."
   ]
  },
  {
   "cell_type": "code",
   "execution_count": null,
   "id": "6e2dfac9-91d8-41fc-9913-813c539df275",
   "metadata": {},
   "outputs": [],
   "source": []
  }
 ],
 "metadata": {
  "kernelspec": {
   "display_name": "Python 3 (ipykernel)",
   "language": "python",
   "name": "python3"
  },
  "language_info": {
   "codemirror_mode": {
    "name": "ipython",
    "version": 3
   },
   "file_extension": ".py",
   "mimetype": "text/x-python",
   "name": "python",
   "nbconvert_exporter": "python",
   "pygments_lexer": "ipython3",
   "version": "3.10.8"
  }
 },
 "nbformat": 4,
 "nbformat_minor": 5
}
