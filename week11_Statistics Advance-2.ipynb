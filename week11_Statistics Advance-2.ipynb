{
 "cells": [
  {
   "cell_type": "markdown",
   "id": "4051395e-67e7-43bc-b8b1-c8c501baa0e7",
   "metadata": {},
   "source": [
    "# Q1: What are the Probability Mass Function (PMF) and Probability Density Function (PDF)? Explain with an example.\n"
   ]
  },
  {
   "cell_type": "markdown",
   "id": "2e41028a-7480-4ed3-842c-8938fdf000fd",
   "metadata": {},
   "source": [
    "**PMF:**\n",
    "    **Probability Mass Function** is used for discrete random variable which can take a finite or countable number of values. it assigns probabilities to the possible values of random variables.PMF gives the probability that the random variable (X) equals a specific value.\n",
    "    \n",
    "    ex: rolling a dice, number of heads in 10 coins flip..\n",
    "\n",
    "**PDF:**\n",
    "    **Probability Density Function** is used for continous random variable which can take any value in continous range.. it represent rate of change of the CDF.\n",
    "    \n",
    "    ex: height of student in classroom"
   ]
  },
  {
   "cell_type": "markdown",
   "id": "ce5ab8f8-37e3-46a2-a96a-c9933b065d1c",
   "metadata": {},
   "source": [
    "# Q2: What is Cumulative Density Function (CDF)? Explain with an example. Why CDF is used?"
   ]
  },
  {
   "cell_type": "markdown",
   "id": "b249bc3e-a00f-4c89-9418-a82dd25c9e2c",
   "metadata": {},
   "source": [
    "***Cumulative density function*** provides the probability that a random variable is less then or equal to a specific value.\n",
    "it is used for both random and discrete random variable.\n",
    "it give cumulative probability of X.\n",
    "\n",
    "\n",
    "    uses of CDF:\n",
    "    1)CDF helps us understand the overall distribution of a random variable.\n",
    "    2)It provides a way to calculate probabilities for specific intervals or events.\n",
    "    3)CDF is useful for comparing probabilities between different values and making statistical inferences"
   ]
  },
  {
   "cell_type": "markdown",
   "id": "7359520d-66ee-403d-8c20-f3619e4f3f86",
   "metadata": {},
   "source": [
    "# Q3: What are some examples of situations where the normal distribution might be used as a model? Explain how the parameters of the normal distribution relate to the shape of the distribution."
   ]
  },
  {
   "cell_type": "markdown",
   "id": "91bd22d4-6034-4452-8383-676bf84fc090",
   "metadata": {},
   "source": [
    "***Normal/Gaussian Distribution :***\n",
    "it is used for Continous probability distribution for real valued random variable\n",
    "\n",
    "example:\n",
    "\n",
    "\n",
    "Birthweight of Babies:\n",
    "    The birthweight of newborn babies follows a normal distribution with a mean of approximately 7.5 pounds. The histogram of birthweights displays the characteristic bell-shaped curve1.\n",
    "    \n",
    "Parameters:\n",
    "    Mean (μ): Represents the average birthweight.\n",
    "    Standard deviation (σ): Determines the spread or variability of birthweights around the mean.\n",
    "\n",
    "\n",
    "\n",
    "Height of Males:\n",
    "    The height of adult males in the U.S. is roughly normally distributed with a mean of 70 inches and a standard deviation of 3 inches. The histogram exhibits the bell shape1.\n",
    "\n",
    "Parameters:\n",
    "    Mean (μ): Represents the average height of males.\n",
    "    Standard deviation (σ): Indicates how heights vary around the mean.\n",
    "\n",
    "\n",
    "\n",
    "Shoe Sizes:\n",
    "    Shoe sizes for U.S. males follow a normal distribution with a mean of size 10 and a standard deviation of 1. The histogram shows a single peak at size 101.\n",
    "Parameters:\n",
    "    Mean (μ): Represents the average shoe size.\n",
    "    Standard deviation (σ): Reflects the variability in shoe sizes."
   ]
  },
  {
   "cell_type": "markdown",
   "id": "a3ae1aee-584b-480b-acc3-83251b2f7fa4",
   "metadata": {},
   "source": [
    "# Q4: Explain the importance of Normal Distribution. Give a few real-life examples of Normal Distribution."
   ]
  },
  {
   "cell_type": "markdown",
   "id": "a133651b-9b6a-493c-9bff-bdc049fccf87",
   "metadata": {},
   "source": [
    "Certainly! The **normal distribution**, also known as the **Gaussian distribution**, plays a crucial role in statistics and various scientific fields. its importance and applications:\n",
    "\n",
    "1. **Common Representation**:\n",
    "   - The normal distribution is the most common form of distribution for **continuous random variables**.\n",
    "   - It accurately describes the distribution of values for many natural phenomena.\n",
    "\n",
    "2. **Central Limit Theorem (CLT)**:\n",
    "   - The normal distribution is key to the **Central Limit Theorem**.\n",
    "   - According to the CLT, the sum (or average) of a large number of independent, identically distributed random variables tends to follow a normal distribution, regardless of the original distribution of those variables.\n",
    "   - This property is fundamental for statistical inference and hypothesis testing.\n",
    "\n",
    "3. **Statistical Analyses**:\n",
    "   - The normal distribution is used in various statistical analyses, including:\n",
    "     - **Hypothesis testing**: Assumptions about normality often underlie statistical tests.\n",
    "     - **Confidence intervals**: Normality assumptions are essential for constructing confidence intervals.\n",
    "     - **Regression analysis**: Many regression models assume normally distributed errors.\n",
    "     - **Z-tests and t-tests**: These tests rely on normality assumptions.\n",
    "\n",
    "4. **Financial Modeling**:\n",
    "   - In technical stock market analysis, the normal distribution is commonly assumed.\n",
    "   - It helps model returns, volatility, and other financial variables.\n",
    "\n",
    "5. **Quality Control**:\n",
    "   - In manufacturing and quality control, the normal distribution is used to assess process variability.\n",
    "   - Control charts and process capability indices rely on normality assumptions.\n",
    "\n",
    "6. **Natural Phenomena**:\n",
    "   - The normal distribution is observed in various natural phenomena:\n",
    "     - **Height of individuals**: Heights tend to follow a normal distribution.\n",
    "     - **Blood pressure**: Diastolic blood pressure often conforms to a bell-shaped curve.\n",
    "     - **Errors in measurements**: Measurement errors often exhibit normality.\n",
    "\n",
    "7. **Risk Assessment**:\n",
    "   - In risk analysis, the normal distribution models extreme events (e.g., stock market crashes, natural disasters).\n",
    "   - It helps estimate probabilities of rare events.\n",
    "\n",
    "8. **Standardization**:\n",
    "   - The standard normal distribution (with mean 0 and standard deviation 1) simplifies calculations.\n",
    "   - It allows us to convert any normal distribution to the standard form.\n",
    "\n",
    "some example are\n",
    "\n",
    "1. **Birthweight of Babies**:\n",
    "   - The birthweight of newborn babies follows a normal distribution with a mean of approximately **7.5 pounds**. The histogram of birthweights displays the characteristic bell-shaped curve¹.\n",
    "   - **Parameters**:\n",
    "     - **Mean (μ)**: Represents the average birthweight.\n",
    "     - **Standard deviation (σ)**: Determines the spread or variability of birthweights around the mean.\n",
    "\n",
    "2. **Height of Males**:\n",
    "   - The height of adult males in the U.S. is roughly normally distributed with a mean of **70 inches** and a standard deviation of **3 inches**. The histogram exhibits the bell shape¹.\n",
    "   - **Parameters**:\n",
    "     - **Mean (μ)**: Represents the average height of males.\n",
    "     - **Standard deviation (σ)**: Indicates how heights vary around the mean.\n",
    "\n",
    "3. **Shoe Sizes**:\n",
    "   - Shoe sizes for U.S. males follow a normal distribution with a mean of **size 10** and a standard deviation of **1**. The histogram shows a single peak at size 10¹.\n",
    "   - **Parameters**:\n",
    "     - **Mean (μ)**: Represents the average shoe size.\n",
    "     - **Standard deviation (σ)**: Reflects the variability in shoe sizes.\n",
    "\n",
    "4. **ACT Scores**:\n",
    "   - ACT scores for high school students in the U.S. are normally distributed with a mean of **21** and a standard deviation of approximately **5**. The ACT score histogram conforms to the normal distribution¹.\n",
    "   - **Parameters**:\n",
    "     - **Mean (μ)**: Represents the average ACT score.\n",
    "     - **Standard deviation (σ)**: Measures the spread of scores.\n",
    "\n",
    "5. **Average NFL Player Retirement Age**:\n",
    "   - The retirement age for NFL players follows a normal distribution with a mean of **33 years old** and a standard deviation of about **2 years**. The bell-shaped histogram illustrates this distribution¹.\n",
    "   - **Parameters**:\n",
    "     - **Mean (μ)**: Represents the average retirement age.\n",
    "     - **Standard deviation (σ)**: Indicates the variability in retirement ages.\n",
    "\n",
    "6. **Blood Pressure**:\n",
    "   - Diastolic blood pressure for men is normally distributed with a mean of approximately **80** and a standard deviation of **20**. The histogram displays the classic bell shape¹.\n",
    "   - **Parameters**:\n",
    "     - **Mean (μ)**: Represents the average blood pressure.\n",
    "     - **Standard deviation (σ)**: Reflects the spread of blood pressure values."
   ]
  },
  {
   "cell_type": "markdown",
   "id": "1c95ad1f-fdfd-4cc1-a503-9a6d7dfdcd5d",
   "metadata": {},
   "source": [
    "# Q5: What is Bernaulli Distribution? Give an Example. What is the difference between Bernoulli Distribution and Binomial Distribution?"
   ]
  },
  {
   "cell_type": "markdown",
   "id": "0c4654ca-a0ea-4624-b467-b93a0cdc6c7a",
   "metadata": {},
   "source": [
    "**Bernaulli Distribution :**\n",
    "it is descrete probability distribution of a random variable which takes the values of 1 with probability P and value 0 with probability q=1-p\n",
    "itcan be thought of as a model for the set of possible outcomes of any single experiment that ask a yes or no question.\n",
    "\n",
    "it is used for discrete random variable.\n",
    "probability mass function\n",
    "outcomes are binary(0 or 1)\n",
    "ex: tossing a coin\n",
    "\n",
    "\n",
    "difference between Bernoulli Distribution and Binomial Distribution.\n",
    "\n",
    "Bernoulli: \n",
    "    it is descrete probability distribution of a random variable which takes the values of 1 with probability P and value 0 with probability q=1-p.\n",
    "it can be thought of as a model for the set of possible outcomes of any single experiment that ask a yes or no question.\n",
    "\n",
    "Binomial:\n",
    "    it is descrete probability distribution of a random variable which takes the values of 1 with probability P and value 0 with probability q=1-p for N number of experiments.\n",
    "    a single experiment of binomial distribution is called bernoulli trial or bernoulli distribution. \n"
   ]
  },
  {
   "cell_type": "markdown",
   "id": "3cd28a3c-3194-4bd7-ada0-6c110a43fca7",
   "metadata": {},
   "source": [
    "# Q6. Consider a dataset with a mean of 50 and a standard deviation of 10. If we assume that the dataset is normally distributed, what is the probability that a randomly selected observation will be greater than 60? Use the appropriate formula and show your calculations."
   ]
  },
  {
   "cell_type": "code",
   "execution_count": 4,
   "id": "ca6fa5c3-2525-44b5-8686-6dc630029e34",
   "metadata": {},
   "outputs": [
    {
     "name": "stdout",
     "output_type": "stream",
     "text": [
      "Probability (X > 60) = 0.15865525393145707\n"
     ]
    }
   ],
   "source": [
    "import scipy.stats\n",
    "\n",
    "# Given parameters\n",
    "mean = 50\n",
    "std_dev = 10\n",
    "value_to_compare = 60\n",
    "\n",
    "# Calculate the z-score\n",
    "z = (value_to_compare - mean) / std_dev\n",
    "\n",
    "# Find the cumulative probability (CDF) for Z > z\n",
    "probability_greater_than_60 = 1 - scipy.stats.norm.cdf(z)\n",
    "\n",
    "print(f\"Probability (X > 60) = {probability_greater_than_60}\")\n",
    "\n"
   ]
  },
  {
   "cell_type": "markdown",
   "id": "aa958844-2aa4-4579-8758-89b646931c14",
   "metadata": {},
   "source": [
    "# Q7: Explain uniform Distribution with an example."
   ]
  },
  {
   "cell_type": "markdown",
   "id": "ddcce9da-0ef8-4bc4-85c9-6d664f758c3e",
   "metadata": {},
   "source": [
    "it is used for both continous random variable and discrete random variable.\n",
    "for continous random variable probability density function is used.\n",
    "for discrete random variable probability mass function is used."
   ]
  },
  {
   "cell_type": "code",
   "execution_count": 7,
   "id": "33bb700e-3fa4-4546-9810-5986db976b48",
   "metadata": {},
   "outputs": [
    {
     "data": {
      "image/png": "[encoded data removed]",
      "text/plain": [
       "<Figure size 640x480 with 1 Axes>"
      ]
     },
     "metadata": {},
     "output_type": "display_data"
    }
   ],
   "source": [
    "import numpy as np\n",
    "import matplotlib.pyplot as plt\n",
    "\n",
    "# Generate 1000 random values from a uniform distribution [0, 1]\n",
    "data = np.random.uniform(0, 1, 1000)\n",
    "\n",
    "# Create a histogram\n",
    "count, bins, _ = plt.hist(data)"
   ]
  },
  {
   "cell_type": "markdown",
   "id": "1fb14f0f-a4f5-4513-bfef-9c8edcb0ce11",
   "metadata": {},
   "source": [
    "# Q8: What is the z score? State the importance of the z score.\n"
   ]
  },
  {
   "cell_type": "markdown",
   "id": "1f9130af-28c4-4bcc-8a9c-61b9fe798ed9",
   "metadata": {},
   "source": [
    "A **z-score** (also known as a standard score) describes the position of a raw score in terms of its distance from the mean when measured in standard deviation units.\n",
    "It allows us to compare scores on different kinds of variables by standardizing the distribution.\n",
    "The z-score is positive if the value lies above the mean and negative if it lies below the mean.\n",
    "\n",
    "**Importance of Z-Scores:**\n",
    "\n",
    "\n",
    "**Standardization:**\n",
    "\n",
    "By converting raw scores into z-scores, we standardize the values across different distributions.\n",
    "This standardization enables meaningful comparisons.\n",
    "\n",
    "\n",
    "**Probability Calculation:**\n",
    "\n",
    "Researchers can calculate the probability of a score occurring within a standard normal distribution (z-distribution).\n",
    "It helps assess how extreme or typical a particular score is.\n",
    "\n",
    "\n",
    "**Comparing Different Samples:**\n",
    "\n",
    "Z-scores allow us to compare two scores from different samples (which may have different means and standard deviations).\n",
    "For example, comparing test scores from different schools.\n",
    "\n",
    "\n",
    "**Identifying Outliers:**\n",
    "\n",
    "Extreme z-scores (far from 0) indicate outliers.\n",
    "They help identify data points that deviate significantly from the norm.\n",
    "\n",
    "\n",
    "**Research and Hypothesis Testing:**\n",
    "\n",
    "Z-scores play a crucial role in hypothesis testing and statistical analyses.\n",
    "They allow us to determine whether an observed effect is statistically significant."
   ]
  },
  {
   "cell_type": "markdown",
   "id": "a1b35c7a-99e1-4b81-b341-c32abf0962b6",
   "metadata": {},
   "source": [
    "# Q9: What is Central Limit Theorem? State the significance of the Central Limit Theorem."
   ]
  },
  {
   "cell_type": "markdown",
   "id": "ef271975-568c-4a56-ae1b-1ade674b7eee",
   "metadata": {},
   "source": [
    "it says that the sampling distribution of the mean will always be normally distributed as long as the sample size is large enough. regardless of whether the popullation has a normal ,poission,binomial or any other distribution the sampling distribution of mean will always be normal\n",
    "\n",
    "The **Central Limit Theorem (CLT)** is a fundamental concept in statistics. It states that as the sample size increases and its variance is finite, the distribution of the sample mean approaches a normal distribution, regardless of the shape of the population distribution\n"
   ]
  },
  {
   "cell_type": "markdown",
   "id": "508a5222-1909-49c9-82a7-6db709a02725",
   "metadata": {},
   "source": [
    "# Q10: State the assumptions of the Central Limit Theorem."
   ]
  },
  {
   "cell_type": "markdown",
   "id": "1dc73463-c31a-4ff9-9074-9e93bc7f6cd4",
   "metadata": {},
   "source": [
    "The **Central Limit Theorem (CLT)** is a fundamental concept in statistics. It states that as the sample size increases and its variance is finite, the distribution of the sample mean approaches a normal distribution, regardless of the shape of the population distribution.Assumptions of the Central Limit Theorem:\n",
    "\n",
    "1. **Random Sampling**: The drawing of the sample from the population should be **random**.\n",
    "2. **Independence**: The drawing of the sample should be **independent** of each other.\n",
    "3. **Sample Size**: The sample size should not exceed **10%** of the total population when sampling is done **without replacement**.\n",
    "4. **Adequately Large Sample Size**: CLT holds true for a **sufficiently large** sample size.\n",
    "5. **Finite Population Variance**: CLT is valid for populations with **finite variance**.\n"
   ]
  },
  {
   "cell_type": "code",
   "execution_count": null,
   "id": "da7b3f51-a4fa-4215-a973-b0c35651c1ea",
   "metadata": {},
   "outputs": [],
   "source": []
  }
 ],
 "metadata": {
  "kernelspec": {
   "display_name": "Python 3 (ipykernel)",
   "language": "python",
   "name": "python3"
  },
  "language_info": {
   "codemirror_mode": {
    "name": "ipython",
    "version": 3
   },
   "file_extension": ".py",
   "mimetype": "text/x-python",
   "name": "python",
   "nbconvert_exporter": "python",
   "pygments_lexer": "ipython3",
   "version": "3.10.8"
  }
 },
 "nbformat": 4,
 "nbformat_minor": 5
}
