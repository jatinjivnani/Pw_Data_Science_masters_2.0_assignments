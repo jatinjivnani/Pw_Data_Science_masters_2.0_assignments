{
 "cells": [
  {
   "cell_type": "markdown",
   "id": "2f96644a-f541-4fd3-a690-3a31951ac766",
   "metadata": {},
   "source": [
    "## Q1. What is Web Scraping? Why is it Used? Give three areas where Web Scraping is used to get data."
   ]
  },
  {
   "cell_type": "markdown",
   "id": "4b542589-ffda-4a1a-9ae2-50f3cd9ddffc",
   "metadata": {},
   "source": [
    "**Web scraping** is a technique used to collect content and data from the internet. This data is usually saved in a local file so that it can be manipulated and analyzed as needed. Web scraping can be done manually by copying and pasting from a website, or automatically by using a bot or web crawler.\n",
    "\n",
    "**Web scraping** is used for various applications such as:\n",
    "\n",
    "**Price monitoring**: Web scraping can be used to compare prices of products or services across different websites and platforms. This can help consumers find the best deals, or help businesses adjust their pricing strategies accordingly.\n",
    "**Market research**: Web scraping can be used to gather data on customer preferences, trends, competitors, and market opportunities. This can help businesses improve their products, services, marketing, and sales.\n",
    "**Data analysis**: Web scraping can be used to collect data for statistical, scientific, or academic purposes. This can help researchers, analysts, or students find insights, patterns, or correlations from large amounts of data."
   ]
  },
  {
   "cell_type": "markdown",
   "id": "f47f6649-d097-4184-9f2d-b1fd847a0255",
   "metadata": {},
   "source": [
    "## Q2. What are the different methods used for Web Scraping?"
   ]
  },
  {
   "cell_type": "markdown",
   "id": "83572789-e5d7-4cb9-b9b6-e3a1001d770b",
   "metadata": {},
   "source": [
    "There are many different methods used for web scraping to obtain data from websites. Some of the common methods are:\n",
    "\n",
    "**Using online services**: There are some online platforms that provide web scraping services for a fee or for free. These platforms allow users to specify the URL, the data fields, and the output format of the web scraping task. Some examples of online web scraping services are Web Scraping API, [Octoparse], [ParseHub], and [Scrapinghub].\n",
    "\n",
    "\n",
    "**Using APIs**: Some websites provide APIs that allow users to access their data in a structured format. These APIs usually require authentication and have some limitations on the number of requests and the data fields available. Some examples of websites that provide APIs are [Google], [Twitter], [Facebook], and [StackOverflow].\n",
    "\n",
    "\n",
    "**Using custom code**: Users can also write their own code to perform web scraping using various programming languages and libraries. This method gives users more flexibility and control over the web scraping process, but it also requires more technical skills and knowledge. Some examples of programming languages and libraries that can be used for web scraping are [Python] with [Beautiful Soup] or [Scrapy], [R] with [rvest] or [RSelenium], and [JavaScript] with [Puppeteer] or [Cheerio]."
   ]
  },
  {
   "cell_type": "markdown",
   "id": "940801eb-954c-4494-8b29-019e3db5cb28",
   "metadata": {},
   "source": [
    "## Q3. What is Beautiful Soup? Why is it used?"
   ]
  },
  {
   "cell_type": "markdown",
   "id": "1d4cfc64-6728-4b8b-abfb-369bfee688a4",
   "metadata": {},
   "source": [
    "**Beautiful Soup** is a Python library that makes it easy to scrape information from web pages. It sits atop an HTML or XML parser, providing Pythonic idioms for iterating, searching, and modifying the parse tree. It is used for various web scraping applications, such as extracting data, finding links, cleaning HTML, and manipulating tags."
   ]
  },
  {
   "cell_type": "markdown",
   "id": "ff34b953-6681-40f0-b4d9-1085cc22ae68",
   "metadata": {},
   "source": [
    "## Q4. Why is flask used in this Web Scraping project?"
   ]
  },
  {
   "cell_type": "markdown",
   "id": "1973cd8b-4209-4e0e-9e14-8d458b12e882",
   "metadata": {},
   "source": [
    "Flask is a lightweight web framework for Python that allows you to create web applications quickly and easily. Flask is used in this web scraping project because it provides the following benefits:\n",
    "\n",
    "- It has a simple and flexible template engine called Jinja that lets you render HTML pages with dynamic data.\n",
    "- It supports various methods of passing data between the web server and the browser, such as URL parameters, form data, JSON, and cookies.\n",
    "- It has a built-in development server and debugger that makes testing and debugging easier.\n",
    "- It has a modular and extensible design that allows you to use various extensions and libraries to add more functionality, such as database access, authentication, caching, and more.\n",
    "\n"
   ]
  },
  {
   "cell_type": "markdown",
   "id": "7aaf7081-8ecc-484c-b6a0-473de85081b4",
   "metadata": {},
   "source": [
    "## Q5. Write the names of AWS services used in this project. Also, explain the use of each service."
   ]
  },
  {
   "cell_type": "markdown",
   "id": "66187180-ae15-440d-9ca2-cd98612c093e",
   "metadata": {},
   "source": [
    "There are several AWS services that can be used for web scraping projects, depending on the architecture and the requirements.some of the possible services are:\n",
    "\n",
    "- **AWS Lambda**: This is a serverless computing service that allows you to run code without provisioning or managing servers. You can use AWS Lambda to execute your web scraping code in response to events, such as a scheduled trigger or an API request. AWS Lambda can scale automatically and you only pay for the compute time you consume.\n",
    "- **Amazon ECS**: This is a fully managed container orchestration service that enables you to run and scale containerized applications on AWS. You can use Amazon ECS to deploy your web scraping code as a Docker container and run it on a cluster of EC2 instances or AWS Fargate. Amazon ECS can handle load balancing, service discovery, and health monitoring for your containers.\n",
    "- **Amazon S3**: This is an object storage service that offers high durability, availability, and scalability. You can use Amazon S3 to store and retrieve the data that you scrape from the web, such as HTML files, images, or JSON documents. Amazon S3 also supports encryption, versioning, and lifecycle management for your data.\n",
    "- **AWS WAF**: This is a web application firewall that helps protect your web applications from common web exploits, such as SQL injection, cross-site scripting, or web scraping. You can use AWS WAF to define custom rules that block or allow requests based on various criteria, such as IP addresses, headers, or body content. AWS WAF can be integrated with Amazon CloudFront, Amazon API Gateway, or Application Load Balancer."
   ]
  },
  {
   "cell_type": "code",
   "execution_count": null,
   "id": "b6dd7a77-e381-4fb8-8de7-3543a735fd34",
   "metadata": {},
   "outputs": [],
   "source": []
  }
 ],
 "metadata": {
  "kernelspec": {
   "display_name": "Python 3 (ipykernel)",
   "language": "python",
   "name": "python3"
  },
  "language_info": {
   "codemirror_mode": {
    "name": "ipython",
    "version": 3
   },
   "file_extension": ".py",
   "mimetype": "text/x-python",
   "name": "python",
   "nbconvert_exporter": "python",
   "pygments_lexer": "ipython3",
   "version": "3.10.8"
  }
 },
 "nbformat": 4,
 "nbformat_minor": 5
}
