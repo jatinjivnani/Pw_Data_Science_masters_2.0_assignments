{
 "cells": [
  {
   "cell_type": "markdown",
   "id": "ef815817-9701-4963-8ba5-6e31091e6411",
   "metadata": {},
   "source": [
    "# Q1. What is Min-Max scaling, and how is it used in data preprocessing? Provide an example to illustrate its application."
   ]
  },
  {
   "cell_type": "markdown",
   "id": "1527e48d-7058-4a65-b3ca-9eaf9f874966",
   "metadata": {},
   "source": [
    "**Min-Max scaling**, a fundamental data preprocessing technique used to transform numerical data into a specific range, typically between **0 and 1**. This process ensures that all features contribute equally to the analysis, preventing any single variable from dominating the model's performance².\n",
    "\n",
    "Here's how Min-Max scaling works:\n",
    "\n",
    "1. **What is Min-Max Scaling?**\n",
    "   - Min-Max scaling, also known as **feature scaling**, shrinks the data within a given range (usually 0 to 1).\n",
    "   - Unlike standardization, which centers the data around zero with unit variance, Min-Max scaling maintains the original distribution shape.\n",
    "   - It's particularly useful when you want to compare features on a common scale.\n",
    "\n",
    "2. **The Transformation Equation**:\n",
    "   - Given a feature vector **X**, the transformation is as follows:\n",
    "     - First, standardize each feature independently:\n",
    "       \\[X_{\\text{std}} = \\frac{{X - X_{\\text{min}}}}{{X_{\\text{max}} - X_{\\text{min}}}}\\]\n",
    "     - Then, scale the standardized features to the desired range:\n",
    "       \\[X_{\\text{scaled}} = X_{\\text{std}} \\cdot (\\text{max} - \\text{min}) + \\text{min}\\]\n",
    "     - Here, \\(\\text{min}\\) and \\(\\text{max}\\) represent the desired feature range.\n",
    "\n"
   ]
  },
  {
   "cell_type": "code",
   "execution_count": 13,
   "id": "2757d502-5391-46c2-a840-d2c8a90d0dfa",
   "metadata": {},
   "outputs": [
    {
     "data": {
      "text/plain": [
       "array([[0.04359673],\n",
       "       [0.02152589],\n",
       "       [0.0373297 ],\n",
       "       ...,\n",
       "       [0.11280654],\n",
       "       [0.03051771],\n",
       "       [0.10490463]])"
      ]
     },
     "execution_count": 13,
     "metadata": {},
     "output_type": "execute_result"
    }
   ],
   "source": [
    "import seaborn as sns\n",
    "from sklearn.preprocessing import MinMaxScaler\n",
    "a=sns.load_dataset(\"taxis\")\n",
    "min_max=MinMaxScaler()\n",
    "b=min_max.fit_transform(a[['distance']])\n",
    "b"
   ]
  },
  {
   "cell_type": "markdown",
   "id": "26c61ed9-78b5-437a-abff-e07bd614b298",
   "metadata": {},
   "source": [
    "# Q2. What is the Unit Vector technique in feature scaling, and how does it differ from Min-Max scaling? Provide an example to illustrate its application."
   ]
  },
  {
   "cell_type": "markdown",
   "id": "ded28096-9902-4639-bfb5-afc423ec190f",
   "metadata": {},
   "source": [
    "1. **Unit Vector Scaling (Normalization)**:\n",
    "   - **Objective**: Unit vector scaling transforms a dataset's features into a uniform scale where each data point has the same magnitude (Euclidean norm) of 1.\n",
    "   - **Process**:\n",
    "     - For each feature, subtract the minimum value from each data point.\n",
    "     - Divide the result by the range (maximum value minus minimum value).\n",
    "   - **Range**: Typically scales values between 0 and 1.\n",
    "   - **Purpose**: Useful when the trend of the data is more interesting than its precise magnitude.\n",
    "   - **Formula**:\n",
    "     \\[X_{\\text{scaled}} = \\frac{{X - X_{\\text{min}}}}{{X_{\\text{max}} - X_{\\text{min}}}}\\]\n",
    "\n",
    "2. **Min-Max Scaling**:\n",
    "   - **Objective**: Min-Max scaling (also known as normalization) scales features to a specific range (e.g., [0, 1]).\n",
    "   - **Process**:\n",
    "     - For each feature, transform data to maintain the relative relationship between values.\n",
    "     - Preserves the shape of the distribution.\n",
    "   - **Formula**:\n",
    "     \\[X_{\\text{min-max}} = \\frac{{X - X_{\\text{min}}}}{{X_{\\text{max}} - X_{\\text{min}}}}\\]\n",
    "\n",
    "3. **Comparison**:\n",
    "   - **Unit Vector Scaling**:\n",
    "     - Scales each feature to have a magnitude of 1 (Euclidean norm).\n",
    "     - Focuses on direction rather than absolute values.\n",
    "     - Useful when relative trends matter more.\n",
    "   - **Min-Max Scaling**:\n",
    "     - Scales features to a specific range (e.g., [0, 1]).\n",
    "     - Preserves the shape of the distribution.\n",
    "     - Useful for maintaining relative relationships.\n",
    "\n",
    "4. **Example Illustration**:\n",
    "   Let's consider a dataset with the following values:\n",
    "   \\[\n",
    "   \\begin{align*}\n",
    "   \\text{Data} &= \\left[[-1, 2], [-0.5, 6], [0, 10], [1, 18]\\right] \\\\\n",
    "   \\end{align*}\n",
    "   \\]\n",
    "   We'll apply Unit Vector Scaling and Min-Max Scaling to this data:\n",
    "\n",
    "   - **Unit Vector Scaling**:\n",
    "     - Calculate the Euclidean norm for each data point.\n",
    "     - Divide each data point by its Euclidean norm.\n",
    "     - Resulting scaled data:\n",
    "       \\[\n",
    "       \\begin{align*}\n",
    "       \\text{Scaled Data} &= \\left[\\left[-0.447, 0.894\\right], \\left[-0.078, 0.997\\right], [0, 1], [0.055, 0.998]\\right] \\\\\n",
    "       \\end{align*}\n",
    "       \\]\n",
    "\n",
    "   - **Min-Max Scaling**:\n",
    "     - Calculate the minimum and maximum values for each feature.\n",
    "     - Apply the Min-Max scaling formula.\n",
    "     - Resulting scaled data:\n",
    "       \\[\n",
    "       \\begin{align*}\n",
    "       \\text{Scaled Data} &= \\left[\\left[0, 0\\right], \\left[0.25, 0.25\\right], [0.5, 0.5], [1, 1]\\right] \\\\\n",
    "       \\end{align*}\n",
    "       \\]\n",
    "\n",
    "   In both cases, the data is scaled within the desired range, but the approaches differ in their focus.\n"
   ]
  },
  {
   "cell_type": "code",
   "execution_count": 27,
   "id": "a66f8b73-d6fc-4b1c-9431-ed7d52d143c8",
   "metadata": {},
   "outputs": [
    {
     "data": {
      "text/html": [
       "<div>\n",
       "<style scoped>\n",
       "    .dataframe tbody tr th:only-of-type {\n",
       "        vertical-align: middle;\n",
       "    }\n",
       "\n",
       "    .dataframe tbody tr th {\n",
       "        vertical-align: top;\n",
       "    }\n",
       "\n",
       "    .dataframe thead th {\n",
       "        text-align: right;\n",
       "    }\n",
       "</style>\n",
       "<table border=\"1\" class=\"dataframe\">\n",
       "  <thead>\n",
       "    <tr style=\"text-align: right;\">\n",
       "      <th></th>\n",
       "      <th>0</th>\n",
       "      <th>1</th>\n",
       "    </tr>\n",
       "  </thead>\n",
       "  <tbody>\n",
       "    <tr>\n",
       "      <th>0</th>\n",
       "      <td>0.879707</td>\n",
       "      <td>0.475517</td>\n",
       "    </tr>\n",
       "    <tr>\n",
       "      <th>1</th>\n",
       "      <td>0.880775</td>\n",
       "      <td>0.473535</td>\n",
       "    </tr>\n",
       "    <tr>\n",
       "      <th>2</th>\n",
       "      <td>0.883697</td>\n",
       "      <td>0.468060</td>\n",
       "    </tr>\n",
       "    <tr>\n",
       "      <th>3</th>\n",
       "      <td>0.807411</td>\n",
       "      <td>0.589989</td>\n",
       "    </tr>\n",
       "    <tr>\n",
       "      <th>4</th>\n",
       "      <td>0.830139</td>\n",
       "      <td>0.557556</td>\n",
       "    </tr>\n",
       "    <tr>\n",
       "      <th>...</th>\n",
       "      <td>...</td>\n",
       "      <td>...</td>\n",
       "    </tr>\n",
       "    <tr>\n",
       "      <th>6428</th>\n",
       "      <td>0.816327</td>\n",
       "      <td>0.577590</td>\n",
       "    </tr>\n",
       "    <tr>\n",
       "      <th>6429</th>\n",
       "      <td>0.711933</td>\n",
       "      <td>0.702247</td>\n",
       "    </tr>\n",
       "    <tr>\n",
       "      <th>6430</th>\n",
       "      <td>0.734152</td>\n",
       "      <td>0.678985</td>\n",
       "    </tr>\n",
       "    <tr>\n",
       "      <th>6431</th>\n",
       "      <td>0.749838</td>\n",
       "      <td>0.661622</td>\n",
       "    </tr>\n",
       "    <tr>\n",
       "      <th>6432</th>\n",
       "      <td>0.802286</td>\n",
       "      <td>0.596939</td>\n",
       "    </tr>\n",
       "  </tbody>\n",
       "</table>\n",
       "<p>6433 rows × 2 columns</p>\n",
       "</div>"
      ],
      "text/plain": [
       "             0         1\n",
       "0     0.879707  0.475517\n",
       "1     0.880775  0.473535\n",
       "2     0.883697  0.468060\n",
       "3     0.807411  0.589989\n",
       "4     0.830139  0.557556\n",
       "...        ...       ...\n",
       "6428  0.816327  0.577590\n",
       "6429  0.711933  0.702247\n",
       "6430  0.734152  0.678985\n",
       "6431  0.749838  0.661622\n",
       "6432  0.802286  0.596939\n",
       "\n",
       "[6433 rows x 2 columns]"
      ]
     },
     "execution_count": 27,
     "metadata": {},
     "output_type": "execute_result"
    }
   ],
   "source": [
    "import seaborn as sns\n",
    "import pandas as pd\n",
    "from sklearn.preprocessing import normalize\n",
    "a=sns.load_dataset(\"taxis\")\n",
    "df=pd.DataFrame(normalize(a[['total','fare']]))\n",
    "df"
   ]
  },
  {
   "cell_type": "markdown",
   "id": "d77d932d-60db-4981-90b7-3613df99db1b",
   "metadata": {},
   "source": [
    "# Q3. What is PCA (Principle Component Analysis), and how is it used in dimensionality reduction? Provide an example to illustrate its application."
   ]
  },
  {
   "cell_type": "markdown",
   "id": "733eb508-ffa4-435b-ad7c-23358067bd57",
   "metadata": {},
   "source": [
    "PCA aims to transform a set of correlated variables into a set of uncorrelated variables.\n",
    "The fundamental idea is to find a new set of axes (principal components) that capture the maximum variance in the data.\n",
    "PCA is widely used in exploratory data analysis and machine learning for predictive models.\n",
    "\n",
    "Given a dataset with multiple features (dimensions), PCA identifies a new set of orthogonal axes (principal components).\n",
    "These components are ranked by the amount of variance they explain.\n",
    "The first principal component explains the most variance, the second explains the second most, and so on.\n",
    "By retaining only a subset of these components, we achieve dimensionality reduction."
   ]
  },
  {
   "cell_type": "code",
   "execution_count": 29,
   "id": "689cc3b8-dc23-4d66-880c-4ed0a8941e72",
   "metadata": {},
   "outputs": [
    {
     "data": {
      "image/png": "[encoded data removed]",
      "text/plain": [
       "<Figure size 640x480 with 1 Axes>"
      ]
     },
     "metadata": {},
     "output_type": "display_data"
    }
   ],
   "source": [
    "import numpy as np\n",
    "import pandas as pd\n",
    "from sklearn.datasets import load_iris\n",
    "from sklearn.decomposition import PCA\n",
    "import matplotlib.pyplot as plt\n",
    "\n",
    "# Load the Iris dataset\n",
    "iris = load_iris()\n",
    "X = iris.data  # Features (4 dimensions)\n",
    "\n",
    "# Apply PCA with 2 components\n",
    "pca = PCA(n_components=2)\n",
    "X_pca = pca.fit_transform(X)  # Reduced to 2 dimensions\n",
    "\n",
    "# Visualize the reduced data\n",
    "plt.scatter(X_pca[:, 0], X_pca[:, 1], c=iris.target, cmap='viridis')\n",
    "plt.xlabel('First Principal Component')\n",
    "plt.ylabel('Second Principal Component')\n",
    "plt.title('PCA: Iris Dataset')\n",
    "plt.show()\n"
   ]
  },
  {
   "cell_type": "markdown",
   "id": "c7bbc348-5799-4bbd-94bd-eab85e061ce2",
   "metadata": {},
   "source": [
    "# Q4. What is the relationship between PCA and Feature Extraction, and how can PCA be used for Feature Extraction? Provide an example to illustrate this concept."
   ]
  },
  {
   "cell_type": "markdown",
   "id": "fa2fb52c-9762-477d-9430-3b70356c36c6",
   "metadata": {},
   "source": [
    "import numpy as np\n",
    "import pandas as pd\n",
    "from sklearn.datasets import load_iris\n",
    "from sklearn.decomposition import PCA\n",
    "import matplotlib.pyplot as plt\n",
    "\n",
    "# Load the Iris dataset\n",
    "iris = load_iris()\n",
    "X = iris.data  # Features (4 dimensions)\n",
    "\n",
    "# Apply PCA with 2 components\n",
    "pca = PCA(n_components=2)\n",
    "X_pca = pca.fit_transform(X)  # Reduced to 2 dimensions\n",
    "\n",
    "# Visualize the reduced data\n",
    "plt.scatter(X_pca[:, 0], X_pca[:, 1], c=iris.target, cmap='viridis')\n",
    "plt.xlabel('First Principal Component')\n",
    "plt.ylabel('Second Principal Component')\n",
    "plt.title('PCA: Iris Dataset')\n",
    "plt.show()\n",
    "import numpy as np\n",
    "import pandas as pd\n",
    "from sklearn.datasets import load_iris\n",
    "from sklearn.decomposition import PCA\n",
    "import matplotlib.pyplot as plt\n",
    "\n",
    "# Load the Iris dataset\n",
    "iris = load_iris()\n",
    "X = iris.data  # Features (4 dimensions)\n",
    "\n",
    "# Apply PCA with 2 components\n",
    "pca = PCA(n_components=2)\n",
    "X_pca = pca.fit_transform(X)  # Reduced to 2 dimensions\n",
    "\n",
    "# Visualize the reduced data\n",
    "plt.scatter(X_pca[:, 0], X_pca[:, 1], c=iris.target, cmap='viridis')\n",
    "plt.xlabel('First Principal Component')\n",
    "plt.ylabel('Second Principal Component')\n",
    "plt.title('PCA: Iris Dataset')\n",
    "plt.show()\n",
    "1. **PCA and Feature Extraction**:\n",
    "    - **Feature extraction** is a technique used to reduce the dimensionality of a dataset while retaining essential information. It aims to transform the original features into a new set of features that capture most of the data's variability.\n",
    "    - **PCA** is a specific method for feature extraction. It identifies a set of orthogonal axes (principal components) that explain the maximum variance in the data.\n",
    "    - In summary, PCA is a dimensionality reduction technique that falls under the umbrella of feature extraction.\n",
    "\n",
    "2. **How PCA Works for Feature Extraction**:\n",
    "    - Given a dataset with multiple correlated features (dimensions), PCA computes the principal components.\n",
    "    - These components are linear combinations of the original features.\n",
    "    - The first principal component explains the most variance, the second explains the second most, and so on.\n",
    "    - By selecting a subset of these components, we achieve dimensionality reduction while preserving essential patterns.\n",
    "\n",
    "3. **Example: Iris Dataset with PCA**:\n",
    "    - Let's consider the **Iris dataset**, which contains measurements of sepal length, sepal width, petal length, and petal width for three species of iris flowers.\n",
    "    - We'll use PCA to reduce the dimensionality while retaining important information.\n",
    "    - Here's a Python example using scikit-learn:\n",
    "\n",
    "    - In this example:\n",
    "        - We reduced the 4-dimensional feature space to 2 dimensions using PCA.\n",
    "        - The scatter plot shows the data points projected onto the first two principal components.\n",
    "        - Even in the reduced space, the separation between iris species is visible.\n"
   ]
  },
  {
   "cell_type": "code",
   "execution_count": 30,
   "id": "87bce059-ca05-4c6f-b9cd-24103297fcbb",
   "metadata": {},
   "outputs": [
    {
     "data": {
      "image/png": "[encoded data removed]",
      "text/plain": [
       "<Figure size 640x480 with 1 Axes>"
      ]
     },
     "metadata": {},
     "output_type": "display_data"
    }
   ],
   "source": [
    "import numpy as np\n",
    "import pandas as pd\n",
    "from sklearn.datasets import load_iris\n",
    "from sklearn.decomposition import PCA\n",
    "import matplotlib.pyplot as plt\n",
    "\n",
    "# Load the Iris dataset\n",
    "iris = load_iris()\n",
    "X = iris.data  # Features (4 dimensions)\n",
    "\n",
    "# Apply PCA with 2 components\n",
    "pca = PCA(n_components=2)\n",
    "X_pca = pca.fit_transform(X)  # Reduced to 2 dimensions\n",
    "\n",
    "# Visualize the reduced data\n",
    "plt.scatter(X_pca[:, 0], X_pca[:, 1], c=iris.target, cmap='viridis')\n",
    "plt.xlabel('First Principal Component')\n",
    "plt.ylabel('Second Principal Component')\n",
    "plt.title('PCA: Iris Dataset')\n",
    "plt.show()\n"
   ]
  },
  {
   "cell_type": "markdown",
   "id": "2acfc205-deaa-4e03-8363-bab62a600a43",
   "metadata": {},
   "source": [
    "# Q5. You are working on a project to build a recommendation system for a food delivery service. The dataset contains features such as price, rating, and delivery time. Explain how you would use Min-Max scaling to preprocess the data."
   ]
  },
  {
   "cell_type": "markdown",
   "id": "09325c78-3078-4051-82a2-e0c6cba696e3",
   "metadata": {},
   "source": [
    "Min-Max scaling (also known as normalization) is a method used to standardize the range of features in your data.\n",
    "It transforms each feature so that it falls within a specific range, typically [0, 1] or [-1, 1].\n",
    "The goal is to ensure that all features have a similar scale, which is crucial for many machine learning algorithms.\n"
   ]
  },
  {
   "cell_type": "code",
   "execution_count": 33,
   "id": "fa839568-fb09-4194-833d-fd42adbf7078",
   "metadata": {},
   "outputs": [
    {
     "data": {
      "text/plain": [
       "array([[0.        , 1.        , 0.25      ],\n",
       "       [1.        , 0.        , 1.        ],\n",
       "       [0.5       , 0.57142857, 0.        ]])"
      ]
     },
     "execution_count": 33,
     "metadata": {},
     "output_type": "execute_result"
    }
   ],
   "source": [
    "import pandas as pd\n",
    "from sklearn.preprocessing import MinMaxScaler\n",
    "df=pd.DataFrame([[10,4.5,30],\n",
    "[20,3.8,45],\n",
    "[15,4.2,25]],columns=('Price','rating','delivery_time'))\n",
    "min_max=MinMaxScaler()\n",
    "b=min_max.fit_transform(df[['Price','rating','delivery_time']])\n",
    "b"
   ]
  },
  {
   "cell_type": "markdown",
   "id": "9c81fb5a-9302-4cdf-8775-536240558ce2",
   "metadata": {},
   "source": [
    "Principal Component Analysis (PCA) is a popular technique used for dimensionality reduction in datasets with many features, like the one you have for predicting stock prices. Here's how I'd approach using PCA in your project:\n",
    "\n",
    "Data Preprocessing: Start by preprocessing your data, which may involve steps like handling missing values, scaling features to have zero mean and unit variance (standardization), and removing any irrelevant features.\n",
    "\n",
    "Understanding the Data: It's crucial to understand the nature of your data and the relationships between features. PCA assumes that the data is centered around the origin, so it's essential to preprocess your data accordingly.\n",
    "\n",
    "Compute Covariance Matrix: PCA works by computing the covariance matrix of your data. This matrix represents the relationships between your features.\n",
    "\n",
    "Eigenvalue Decomposition: Perform eigenvalue decomposition on the covariance matrix to find the eigenvectors and eigenvalues. Eigenvectors represent the directions of maximum variance in the data, and eigenvalues represent the magnitude of variance along those directions.\n",
    "\n",
    "Selecting Principal Components: Sort the eigenvectors based on their corresponding eigenvalues in descending order. The eigenvectors with the highest eigenvalues capture the most variance in the data and are termed as principal components (PCs). Choose the top 'k' eigenvectors to retain, where 'k' is the desired dimensionality of your reduced dataset.\n",
    "\n",
    "Projection: Project your original data onto the selected principal components to obtain the lower-dimensional representation of your dataset.\n",
    "\n",
    "Model Training: Finally, you can train your predictive model using the reduced-dimensional dataset obtained from PCA.\n",
    "\n",
    "Model Evaluation: Evaluate the performance of your model using appropriate metrics and iterate on your approach if necessary.\n",
    "\n",
    "Using PCA can help in reducing the computational complexity of your model while retaining most of the relevant information in the dataset. However, it's essential to consider the trade-offs involved, as reducing dimensionality may lead to some loss of information. Experimenting with different numbers of principal components and evaluating the performance of your predictive model can help find the optimal balance between dimensionality reduction and predictive accuracy."
   ]
  },
  {
   "cell_type": "markdown",
   "id": "33485336-c187-4ab7-8b40-e840fbddb582",
   "metadata": {},
   "source": [
    "# Q7. For a dataset containing the following values: [1, 5, 10, 15, 20], perform Min-Max scaling to transform the values to a range of -1 to 1."
   ]
  },
  {
   "cell_type": "code",
   "execution_count": 55,
   "id": "83a47e43-b24b-49af-8ef7-8da7821e6f1c",
   "metadata": {},
   "outputs": [
    {
     "data": {
      "text/plain": [
       "array([[0.        ],\n",
       "       [0.21052632],\n",
       "       [0.47368421],\n",
       "       [0.73684211],\n",
       "       [1.        ]])"
      ]
     },
     "execution_count": 55,
     "metadata": {},
     "output_type": "execute_result"
    }
   ],
   "source": [
    "import pandas as pd\n",
    "from sklearn.preprocessing import MinMaxScaler\n",
    "df=pd.DataFrame({'PRICE':(1,5,10,15,20)})\n",
    "min_max=MinMaxScaler()\n",
    "b=min_max.fit_transform(df[['PRICE']])\n",
    "b"
   ]
  },
  {
   "cell_type": "markdown",
   "id": "ff86c145-7a3b-4c40-b9ba-71af7d9449cf",
   "metadata": {},
   "source": [
    "# Q8. For a dataset containing the following features: [height, weight, age, gender, blood pressure], perform Feature Extraction using PCA. How many principal components would you choose to retain, and why?"
   ]
  },
  {
   "cell_type": "markdown",
   "id": "7c7b4980-e463-4cae-b68a-93aafbeb37ba",
   "metadata": {},
   "source": [
    "The number of principal components to retain in PCA depends on the level of variance we want to preserve in the dataset. In general, we want to retain enough principal components to explain a significant portion of the total variance in the data, while also keeping the number of features as small as possible.\n",
    "To determine how many principal components to retain for the given dataset containing the features height, weight, age, gender, and blood pressure, we would perform the following steps:\n",
    "Standardize the data: We would first standardize the data by subtracting the mean and dividing by the standard deviation. This ensures that all features have the same scale and helps to improve the performance of PCA.\n",
    "\n",
    "Compute the covariance matrix: Next, we would compute the covariance matrix of the standardized data. The covariance matrix represents the relationships between the different features in the dataset.\n",
    "\n",
    "Compute the eigenvectors and eigenvalues: We would then calculate the eigenvectors and eigenvalues of the covariance matrix. The eigenvectors represent the directions in which the data varies the most, while the eigenvalues represent the magnitude of the variation.\n",
    "\n",
    "Select the principal components: We would then select the top k eigenvectors with the highest eigenvalues. These eigenvectors are known as the principal components and represent the most important features in the dataset.\n",
    "\n",
    "Evaluate the explained variance: Finally, we would evaluate the amount of variance explained by each principal component and choose the number of principal components that preserve a significant portion of the total variance in the data.\n",
    "\n",
    "Typically, we would select the number of principal components that can explain at least 80% of the total variance in the data. However, the exact number of principal components to retain may depend on the specific dataset and the problem we are trying to solve.\n",
    "In summary, we would need to perform PCA on the given dataset to determine the optimal number of principal components to retain based on the amount of variance we want to preserve.\n",
    "Below is Example code of How I would Perform PCA on above components :"
   ]
  },
  {
   "cell_type": "code",
   "execution_count": 56,
   "id": "3bb44d83-0de9-46b7-acaf-32878888bd46",
   "metadata": {},
   "outputs": [
    {
     "data": {
      "text/html": [
       "<div>\n",
       "<style scoped>\n",
       "    .dataframe tbody tr th:only-of-type {\n",
       "        vertical-align: middle;\n",
       "    }\n",
       "\n",
       "    .dataframe tbody tr th {\n",
       "        vertical-align: top;\n",
       "    }\n",
       "\n",
       "    .dataframe thead th {\n",
       "        text-align: right;\n",
       "    }\n",
       "</style>\n",
       "<table border=\"1\" class=\"dataframe\">\n",
       "  <thead>\n",
       "    <tr style=\"text-align: right;\">\n",
       "      <th></th>\n",
       "      <th>Height</th>\n",
       "      <th>Weight</th>\n",
       "      <th>Age</th>\n",
       "      <th>Gender</th>\n",
       "      <th>Blood Pressure</th>\n",
       "    </tr>\n",
       "  </thead>\n",
       "  <tbody>\n",
       "    <tr>\n",
       "      <th>0</th>\n",
       "      <td>197.264488</td>\n",
       "      <td>78.301335</td>\n",
       "      <td>37</td>\n",
       "      <td>Male</td>\n",
       "      <td>123.426840</td>\n",
       "    </tr>\n",
       "    <tr>\n",
       "      <th>1</th>\n",
       "      <td>181.909333</td>\n",
       "      <td>71.500660</td>\n",
       "      <td>41</td>\n",
       "      <td>Female</td>\n",
       "      <td>103.227835</td>\n",
       "    </tr>\n",
       "    <tr>\n",
       "      <th>2</th>\n",
       "      <td>172.938287</td>\n",
       "      <td>86.183821</td>\n",
       "      <td>46</td>\n",
       "      <td>Male</td>\n",
       "      <td>143.637328</td>\n",
       "    </tr>\n",
       "    <tr>\n",
       "      <th>3</th>\n",
       "      <td>188.764607</td>\n",
       "      <td>84.627080</td>\n",
       "      <td>55</td>\n",
       "      <td>Female</td>\n",
       "      <td>113.360023</td>\n",
       "    </tr>\n",
       "    <tr>\n",
       "      <th>4</th>\n",
       "      <td>165.582489</td>\n",
       "      <td>65.257311</td>\n",
       "      <td>63</td>\n",
       "      <td>Female</td>\n",
       "      <td>116.065510</td>\n",
       "    </tr>\n",
       "  </tbody>\n",
       "</table>\n",
       "</div>"
      ],
      "text/plain": [
       "       Height     Weight  Age  Gender  Blood Pressure\n",
       "0  197.264488  78.301335   37    Male      123.426840\n",
       "1  181.909333  71.500660   41  Female      103.227835\n",
       "2  172.938287  86.183821   46    Male      143.637328\n",
       "3  188.764607  84.627080   55  Female      113.360023\n",
       "4  165.582489  65.257311   63  Female      116.065510"
      ]
     },
     "execution_count": 56,
     "metadata": {},
     "output_type": "execute_result"
    }
   ],
   "source": [
    "# Generating random data with given features\n",
    "import numpy as np\n",
    "import pandas as pd\n",
    "\n",
    "# Set the seed for reproducibility\n",
    "np.random.seed(678)\n",
    "\n",
    "# Generate random data for each feature\n",
    "height = np.random.normal(loc=170, scale=10, size=10000)\n",
    "weight = np.random.normal(loc=70, scale=10, size=10000)\n",
    "age = np.random.randint(18, 65, size=10000)\n",
    "gender = np.random.choice(['Male', 'Female'], size=10000)\n",
    "blood_pressure = np.random.normal(loc=120, scale=10, size=10000)\n",
    "\n",
    "# Combine the data into a Pandas DataFrame\n",
    "data = pd.DataFrame({'Height': height, \n",
    "                     'Weight': weight, \n",
    "                     'Age': age, \n",
    "                     'Gender': gender, \n",
    "                     'Blood Pressure': blood_pressure})\n",
    "\n",
    "# Print the first 5 rows of the data\n",
    "data.head()"
   ]
  },
  {
   "cell_type": "code",
   "execution_count": 57,
   "id": "fc8631c2-ae8b-4645-b80d-f9310424d49c",
   "metadata": {},
   "outputs": [
    {
     "name": "stdout",
     "output_type": "stream",
     "text": [
      "Categorical Variables :  ['Gender']\n",
      "Numerical Variables   :  ['Height', 'Weight', 'Age', 'Blood Pressure']\n"
     ]
    }
   ],
   "source": [
    "# Seperating categorical and numerical variables in data \n",
    "cat_cols = list(data.columns[data.dtypes == 'object'])\n",
    "num_cols = list(data.columns[data.dtypes != 'object'])\n",
    "# Print Categorical and Numeric Variables\n",
    "print('Categorical Variables : ',cat_cols)\n",
    "print('Numerical Variables   : ',num_cols)"
   ]
  },
  {
   "cell_type": "code",
   "execution_count": 58,
   "id": "9da4e820-2bf6-4462-b31a-1e19174bc773",
   "metadata": {},
   "outputs": [
    {
     "data": {
      "text/html": [
       "<div>\n",
       "<style scoped>\n",
       "    .dataframe tbody tr th:only-of-type {\n",
       "        vertical-align: middle;\n",
       "    }\n",
       "\n",
       "    .dataframe tbody tr th {\n",
       "        vertical-align: top;\n",
       "    }\n",
       "\n",
       "    .dataframe thead th {\n",
       "        text-align: right;\n",
       "    }\n",
       "</style>\n",
       "<table border=\"1\" class=\"dataframe\">\n",
       "  <thead>\n",
       "    <tr style=\"text-align: right;\">\n",
       "      <th></th>\n",
       "      <th>Height</th>\n",
       "      <th>Weight</th>\n",
       "      <th>Age</th>\n",
       "      <th>Gender</th>\n",
       "      <th>Blood Pressure</th>\n",
       "    </tr>\n",
       "  </thead>\n",
       "  <tbody>\n",
       "    <tr>\n",
       "      <th>0</th>\n",
       "      <td>197.264488</td>\n",
       "      <td>78.301335</td>\n",
       "      <td>37</td>\n",
       "      <td>1</td>\n",
       "      <td>123.426840</td>\n",
       "    </tr>\n",
       "    <tr>\n",
       "      <th>1</th>\n",
       "      <td>181.909333</td>\n",
       "      <td>71.500660</td>\n",
       "      <td>41</td>\n",
       "      <td>0</td>\n",
       "      <td>103.227835</td>\n",
       "    </tr>\n",
       "    <tr>\n",
       "      <th>2</th>\n",
       "      <td>172.938287</td>\n",
       "      <td>86.183821</td>\n",
       "      <td>46</td>\n",
       "      <td>1</td>\n",
       "      <td>143.637328</td>\n",
       "    </tr>\n",
       "    <tr>\n",
       "      <th>3</th>\n",
       "      <td>188.764607</td>\n",
       "      <td>84.627080</td>\n",
       "      <td>55</td>\n",
       "      <td>0</td>\n",
       "      <td>113.360023</td>\n",
       "    </tr>\n",
       "    <tr>\n",
       "      <th>4</th>\n",
       "      <td>165.582489</td>\n",
       "      <td>65.257311</td>\n",
       "      <td>63</td>\n",
       "      <td>0</td>\n",
       "      <td>116.065510</td>\n",
       "    </tr>\n",
       "  </tbody>\n",
       "</table>\n",
       "</div>"
      ],
      "text/plain": [
       "       Height     Weight  Age  Gender  Blood Pressure\n",
       "0  197.264488  78.301335   37       1      123.426840\n",
       "1  181.909333  71.500660   41       0      103.227835\n",
       "2  172.938287  86.183821   46       1      143.637328\n",
       "3  188.764607  84.627080   55       0      113.360023\n",
       "4  165.582489  65.257311   63       0      116.065510"
      ]
     },
     "execution_count": 58,
     "metadata": {},
     "output_type": "execute_result"
    }
   ],
   "source": [
    "# Converting Categotrical variables to Label Encoder\n",
    "from sklearn.preprocessing import LabelEncoder\n",
    "le = LabelEncoder()\n",
    "data[cat_cols[0]]=le.fit_transform(data[cat_cols].values.flatten())\n",
    "data.head()"
   ]
  },
  {
   "cell_type": "code",
   "execution_count": 59,
   "id": "81f14bcf-0ded-4994-84ea-2211fd150231",
   "metadata": {},
   "outputs": [
    {
     "data": {
      "text/html": [
       "<div>\n",
       "<style scoped>\n",
       "    .dataframe tbody tr th:only-of-type {\n",
       "        vertical-align: middle;\n",
       "    }\n",
       "\n",
       "    .dataframe tbody tr th {\n",
       "        vertical-align: top;\n",
       "    }\n",
       "\n",
       "    .dataframe thead th {\n",
       "        text-align: right;\n",
       "    }\n",
       "</style>\n",
       "<table border=\"1\" class=\"dataframe\">\n",
       "  <thead>\n",
       "    <tr style=\"text-align: right;\">\n",
       "      <th></th>\n",
       "      <th>Height</th>\n",
       "      <th>Weight</th>\n",
       "      <th>Age</th>\n",
       "      <th>Gender</th>\n",
       "      <th>Blood Pressure</th>\n",
       "    </tr>\n",
       "  </thead>\n",
       "  <tbody>\n",
       "    <tr>\n",
       "      <th>0</th>\n",
       "      <td>2.763392</td>\n",
       "      <td>0.839863</td>\n",
       "      <td>-0.294147</td>\n",
       "      <td>0.99561</td>\n",
       "      <td>0.348117</td>\n",
       "    </tr>\n",
       "    <tr>\n",
       "      <th>1</th>\n",
       "      <td>1.212299</td>\n",
       "      <td>0.157775</td>\n",
       "      <td>0.003407</td>\n",
       "      <td>-1.00441</td>\n",
       "      <td>-1.689637</td>\n",
       "    </tr>\n",
       "    <tr>\n",
       "      <th>2</th>\n",
       "      <td>0.306094</td>\n",
       "      <td>1.630453</td>\n",
       "      <td>0.375350</td>\n",
       "      <td>0.99561</td>\n",
       "      <td>2.387031</td>\n",
       "    </tr>\n",
       "    <tr>\n",
       "      <th>3</th>\n",
       "      <td>1.904781</td>\n",
       "      <td>1.474316</td>\n",
       "      <td>1.044847</td>\n",
       "      <td>-1.00441</td>\n",
       "      <td>-0.667462</td>\n",
       "    </tr>\n",
       "    <tr>\n",
       "      <th>4</th>\n",
       "      <td>-0.436947</td>\n",
       "      <td>-0.468415</td>\n",
       "      <td>1.639956</td>\n",
       "      <td>-1.00441</td>\n",
       "      <td>-0.394522</td>\n",
       "    </tr>\n",
       "  </tbody>\n",
       "</table>\n",
       "</div>"
      ],
      "text/plain": [
       "     Height    Weight       Age   Gender  Blood Pressure\n",
       "0  2.763392  0.839863 -0.294147  0.99561        0.348117\n",
       "1  1.212299  0.157775  0.003407 -1.00441       -1.689637\n",
       "2  0.306094  1.630453  0.375350  0.99561        2.387031\n",
       "3  1.904781  1.474316  1.044847 -1.00441       -0.667462\n",
       "4 -0.436947 -0.468415  1.639956 -1.00441       -0.394522"
      ]
     },
     "execution_count": 59,
     "metadata": {},
     "output_type": "execute_result"
    }
   ],
   "source": [
    "# Applying StandardScaler to entire dataframe\n",
    "from sklearn.preprocessing import StandardScaler\n",
    "scaler = StandardScaler()\n",
    "data_scaled = pd.DataFrame(scaler.fit_transform(data),columns=data.columns)\n",
    "data_scaled.head()"
   ]
  },
  {
   "cell_type": "code",
   "execution_count": 60,
   "id": "f794dc65-1593-40e8-9217-d0715dd373f5",
   "metadata": {},
   "outputs": [
    {
     "name": "stdout",
     "output_type": "stream",
     "text": [
      "Variance Ratio: [0.20491989 0.20113817 0.20024048]\n",
      "\n",
      "Top 5 rows of transformed PCA data :\n",
      "         PC1       PC2       PC3\n",
      "0  0.179922 -1.464986  0.664593\n",
      "1 -0.536445 -1.423220  1.533594\n",
      "2  2.149224  0.738165 -0.709998\n",
      "3  1.316837 -1.776677  1.784522\n",
      "4  0.597166 -0.539852  0.356913\n"
     ]
    }
   ],
   "source": [
    "# Perform PCA with 3 components\n",
    "from sklearn.decomposition import PCA\n",
    "pca = PCA(n_components=3)\n",
    "\n",
    "X_pca = pd.DataFrame(pca.fit_transform(data_scaled),columns=['PC1','PC2','PC3'])\n",
    "# print the variance ratio explained by each principal component\n",
    "print(\"Variance Ratio:\", pca.explained_variance_ratio_)\n",
    "print('\\nTop 5 rows of transformed PCA data :\\n',X_pca.head())"
   ]
  },
  {
   "cell_type": "code",
   "execution_count": null,
   "id": "247a5947-4348-467f-9bd0-5a4316f372b8",
   "metadata": {},
   "outputs": [],
   "source": []
  }
 ],
 "metadata": {
  "kernelspec": {
   "display_name": "Python 3 (ipykernel)",
   "language": "python",
   "name": "python3"
  },
  "language_info": {
   "codemirror_mode": {
    "name": "ipython",
    "version": 3
   },
   "file_extension": ".py",
   "mimetype": "text/x-python",
   "name": "python",
   "nbconvert_exporter": "python",
   "pygments_lexer": "ipython3",
   "version": "3.10.8"
  }
 },
 "nbformat": 4,
 "nbformat_minor": 5
}
